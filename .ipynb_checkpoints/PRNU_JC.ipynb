{
 "cells": [
  {
   "cell_type": "code",
   "execution_count": 11,
   "metadata": {},
   "outputs": [
    {
     "name": "stdout",
     "output_type": "stream",
     "text": [
      "Collecting numpy==1.23.5 (from -r ../prnu-python/requirements.txt (line 1))\n",
      "  Using cached numpy-1.23.5.tar.gz (10.7 MB)\n",
      "  Installing build dependencies ... \u001b[?25ldone\n",
      "\u001b[?25h  Getting requirements to build wheel ... \u001b[?25lerror\n",
      "  \u001b[1;31merror\u001b[0m: \u001b[1msubprocess-exited-with-error\u001b[0m\n",
      "  \n",
      "  \u001b[31m×\u001b[0m \u001b[32mGetting requirements to build wheel\u001b[0m did not run successfully.\n",
      "  \u001b[31m│\u001b[0m exit code: \u001b[1;36m1\u001b[0m\n",
      "  \u001b[31m╰─>\u001b[0m \u001b[31m[33 lines of output]\u001b[0m\n",
      "  \u001b[31m   \u001b[0m Traceback (most recent call last):\n",
      "  \u001b[31m   \u001b[0m   File \"/opt/anaconda3/lib/python3.12/site-packages/pip/_vendor/pyproject_hooks/_in_process/_in_process.py\", line 353, in <module>\n",
      "  \u001b[31m   \u001b[0m     main()\n",
      "  \u001b[31m   \u001b[0m   File \"/opt/anaconda3/lib/python3.12/site-packages/pip/_vendor/pyproject_hooks/_in_process/_in_process.py\", line 335, in main\n",
      "  \u001b[31m   \u001b[0m     json_out['return_val'] = hook(**hook_input['kwargs'])\n",
      "  \u001b[31m   \u001b[0m                              ^^^^^^^^^^^^^^^^^^^^^^^^^^^^\n",
      "  \u001b[31m   \u001b[0m   File \"/opt/anaconda3/lib/python3.12/site-packages/pip/_vendor/pyproject_hooks/_in_process/_in_process.py\", line 112, in get_requires_for_build_wheel\n",
      "  \u001b[31m   \u001b[0m     backend = _build_backend()\n",
      "  \u001b[31m   \u001b[0m               ^^^^^^^^^^^^^^^^\n",
      "  \u001b[31m   \u001b[0m   File \"/opt/anaconda3/lib/python3.12/site-packages/pip/_vendor/pyproject_hooks/_in_process/_in_process.py\", line 77, in _build_backend\n",
      "  \u001b[31m   \u001b[0m     obj = import_module(mod_path)\n",
      "  \u001b[31m   \u001b[0m           ^^^^^^^^^^^^^^^^^^^^^^^\n",
      "  \u001b[31m   \u001b[0m   File \"/opt/anaconda3/lib/python3.12/importlib/__init__.py\", line 90, in import_module\n",
      "  \u001b[31m   \u001b[0m     return _bootstrap._gcd_import(name[level:], package, level)\n",
      "  \u001b[31m   \u001b[0m            ^^^^^^^^^^^^^^^^^^^^^^^^^^^^^^^^^^^^^^^^^^^^^^^^^^^^\n",
      "  \u001b[31m   \u001b[0m   File \"<frozen importlib._bootstrap>\", line 1387, in _gcd_import\n",
      "  \u001b[31m   \u001b[0m   File \"<frozen importlib._bootstrap>\", line 1360, in _find_and_load\n",
      "  \u001b[31m   \u001b[0m   File \"<frozen importlib._bootstrap>\", line 1310, in _find_and_load_unlocked\n",
      "  \u001b[31m   \u001b[0m   File \"<frozen importlib._bootstrap>\", line 488, in _call_with_frames_removed\n",
      "  \u001b[31m   \u001b[0m   File \"<frozen importlib._bootstrap>\", line 1387, in _gcd_import\n",
      "  \u001b[31m   \u001b[0m   File \"<frozen importlib._bootstrap>\", line 1360, in _find_and_load\n",
      "  \u001b[31m   \u001b[0m   File \"<frozen importlib._bootstrap>\", line 1331, in _find_and_load_unlocked\n",
      "  \u001b[31m   \u001b[0m   File \"<frozen importlib._bootstrap>\", line 935, in _load_unlocked\n",
      "  \u001b[31m   \u001b[0m   File \"<frozen importlib._bootstrap_external>\", line 995, in exec_module\n",
      "  \u001b[31m   \u001b[0m   File \"<frozen importlib._bootstrap>\", line 488, in _call_with_frames_removed\n",
      "  \u001b[31m   \u001b[0m   File \"/private/var/folders/m2/h5vdkxbd07x_1vpjxprssq740000gn/T/pip-build-env-l_5qwi5q/overlay/lib/python3.12/site-packages/setuptools/__init__.py\", line 16, in <module>\n",
      "  \u001b[31m   \u001b[0m     import setuptools.version\n",
      "  \u001b[31m   \u001b[0m   File \"/private/var/folders/m2/h5vdkxbd07x_1vpjxprssq740000gn/T/pip-build-env-l_5qwi5q/overlay/lib/python3.12/site-packages/setuptools/version.py\", line 1, in <module>\n",
      "  \u001b[31m   \u001b[0m     import pkg_resources\n",
      "  \u001b[31m   \u001b[0m   File \"/private/var/folders/m2/h5vdkxbd07x_1vpjxprssq740000gn/T/pip-build-env-l_5qwi5q/overlay/lib/python3.12/site-packages/pkg_resources/__init__.py\", line 2172, in <module>\n",
      "  \u001b[31m   \u001b[0m     register_finder(pkgutil.ImpImporter, find_on_path)\n",
      "  \u001b[31m   \u001b[0m                     ^^^^^^^^^^^^^^^^^^^\n",
      "  \u001b[31m   \u001b[0m AttributeError: module 'pkgutil' has no attribute 'ImpImporter'. Did you mean: 'zipimporter'?\n",
      "  \u001b[31m   \u001b[0m \u001b[31m[end of output]\u001b[0m\n",
      "  \n",
      "  \u001b[1;35mnote\u001b[0m: This error originates from a subprocess, and is likely not a problem with pip.\n",
      "\u001b[?25h\u001b[1;31merror\u001b[0m: \u001b[1msubprocess-exited-with-error\u001b[0m\n",
      "\n",
      "\u001b[31m×\u001b[0m \u001b[32mGetting requirements to build wheel\u001b[0m did not run successfully.\n",
      "\u001b[31m│\u001b[0m exit code: \u001b[1;36m1\u001b[0m\n",
      "\u001b[31m╰─>\u001b[0m See above for output.\n",
      "\n",
      "\u001b[1;35mnote\u001b[0m: This error originates from a subprocess, and is likely not a problem with pip.\n",
      "Note: you may need to restart the kernel to use updated packages.\n"
     ]
    }
   ],
   "source": [
    "pip install -r ../prnu-python/requirements.txt"
   ]
  },
  {
   "cell_type": "code",
   "execution_count": 12,
   "metadata": {},
   "outputs": [],
   "source": [
    "import sys\n",
    "sys.path.append(r'/Users/shreetsu/prnu-camera-source-detection/prnu-python')\n"
   ]
  },
  {
   "cell_type": "code",
   "execution_count": 13,
   "metadata": {},
   "outputs": [
    {
     "name": "stdout",
     "output_type": "stream",
     "text": [
      "Requirement already satisfied: numpy in /Users/shreetsu/.local/lib/python3.12/site-packages (1.26.4)\n",
      "Note: you may need to restart the kernel to use updated packages.\n"
     ]
    }
   ],
   "source": [
    "pip install --user numpy"
   ]
  },
  {
   "cell_type": "code",
   "execution_count": 14,
   "metadata": {},
   "outputs": [
    {
     "name": "stdout",
     "output_type": "stream",
     "text": [
      "Requirement already satisfied: opencv-python in /opt/anaconda3/lib/python3.12/site-packages (4.12.0.88)\n",
      "Collecting numpy<2.3.0,>=2 (from opencv-python)\n",
      "  Using cached numpy-2.2.6-cp312-cp312-macosx_14_0_arm64.whl.metadata (62 kB)\n",
      "Using cached numpy-2.2.6-cp312-cp312-macosx_14_0_arm64.whl (5.1 MB)\n",
      "Installing collected packages: numpy\n",
      "  Attempting uninstall: numpy\n",
      "    Found existing installation: numpy 1.26.4\n",
      "    Uninstalling numpy-1.26.4:\n",
      "      Successfully uninstalled numpy-1.26.4\n",
      "\u001b[33m  WARNING: The scripts f2py and numpy-config are installed in '/Users/shreetsu/.local/bin' which is not on PATH.\n",
      "  Consider adding this directory to PATH or, if you prefer to suppress this warning, use --no-warn-script-location.\u001b[0m\u001b[33m\n",
      "\u001b[0m\u001b[31mERROR: pip's dependency resolver does not currently take into account all the packages that are installed. This behaviour is the source of the following dependency conflicts.\n",
      "gensim 4.3.3 requires numpy<2.0,>=1.18.5, but you have numpy 2.2.6 which is incompatible.\n",
      "contourpy 1.2.0 requires numpy<2.0,>=1.20, but you have numpy 2.2.6 which is incompatible.\n",
      "numba 0.60.0 requires numpy<2.1,>=1.22, but you have numpy 2.2.6 which is incompatible.\u001b[0m\u001b[31m\n",
      "\u001b[0mSuccessfully installed numpy-2.2.6\n",
      "Note: you may need to restart the kernel to use updated packages.\n"
     ]
    }
   ],
   "source": [
    "pip install --user opencv-python\n"
   ]
  },
  {
   "cell_type": "code",
   "execution_count": 15,
   "metadata": {},
   "outputs": [
    {
     "name": "stdout",
     "output_type": "stream",
     "text": [
      "Requirement already satisfied: PyWavelets in /opt/anaconda3/lib/python3.12/site-packages (1.7.0)\n",
      "Requirement already satisfied: numpy<3,>=1.23 in /Users/shreetsu/.local/lib/python3.12/site-packages (from PyWavelets) (2.2.6)\n",
      "Note: you may need to restart the kernel to use updated packages.\n"
     ]
    }
   ],
   "source": [
    "pip install --user PyWavelets\n"
   ]
  },
  {
   "cell_type": "code",
   "execution_count": 16,
   "metadata": {},
   "outputs": [
    {
     "name": "stdout",
     "output_type": "stream",
     "text": [
      "Requirement already satisfied: scipy in /opt/anaconda3/lib/python3.12/site-packages (1.13.1)\n",
      "Requirement already satisfied: numpy<2.3,>=1.22.4 in /Users/shreetsu/.local/lib/python3.12/site-packages (from scipy) (2.2.6)\n",
      "Note: you may need to restart the kernel to use updated packages.\n"
     ]
    }
   ],
   "source": [
    "pip install --user scipy"
   ]
  },
  {
   "cell_type": "code",
   "execution_count": 17,
   "metadata": {},
   "outputs": [
    {
     "name": "stdout",
     "output_type": "stream",
     "text": [
      "Requirement already satisfied: matplotlib in /opt/anaconda3/lib/python3.12/site-packages (3.9.2)\n",
      "Requirement already satisfied: contourpy>=1.0.1 in /opt/anaconda3/lib/python3.12/site-packages (from matplotlib) (1.2.0)\n",
      "Requirement already satisfied: cycler>=0.10 in /opt/anaconda3/lib/python3.12/site-packages (from matplotlib) (0.11.0)\n",
      "Requirement already satisfied: fonttools>=4.22.0 in /opt/anaconda3/lib/python3.12/site-packages (from matplotlib) (4.51.0)\n",
      "Requirement already satisfied: kiwisolver>=1.3.1 in /opt/anaconda3/lib/python3.12/site-packages (from matplotlib) (1.4.4)\n",
      "Requirement already satisfied: numpy>=1.23 in /Users/shreetsu/.local/lib/python3.12/site-packages (from matplotlib) (2.2.6)\n",
      "Requirement already satisfied: packaging>=20.0 in /opt/anaconda3/lib/python3.12/site-packages (from matplotlib) (24.1)\n",
      "Requirement already satisfied: pillow>=8 in /opt/anaconda3/lib/python3.12/site-packages (from matplotlib) (10.4.0)\n",
      "Requirement already satisfied: pyparsing>=2.3.1 in /opt/anaconda3/lib/python3.12/site-packages (from matplotlib) (3.1.2)\n",
      "Requirement already satisfied: python-dateutil>=2.7 in /opt/anaconda3/lib/python3.12/site-packages (from matplotlib) (2.9.0.post0)\n",
      "Collecting numpy>=1.23 (from matplotlib)\n",
      "  Using cached numpy-1.26.4-cp312-cp312-macosx_11_0_arm64.whl.metadata (61 kB)\n",
      "Requirement already satisfied: six>=1.5 in /opt/anaconda3/lib/python3.12/site-packages (from python-dateutil>=2.7->matplotlib) (1.16.0)\n",
      "Using cached numpy-1.26.4-cp312-cp312-macosx_11_0_arm64.whl (13.7 MB)\n",
      "Installing collected packages: numpy\n",
      "  Attempting uninstall: numpy\n",
      "    Found existing installation: numpy 2.2.6\n",
      "    Uninstalling numpy-2.2.6:\n",
      "      Successfully uninstalled numpy-2.2.6\n",
      "\u001b[33m  WARNING: The script f2py is installed in '/Users/shreetsu/.local/bin' which is not on PATH.\n",
      "  Consider adding this directory to PATH or, if you prefer to suppress this warning, use --no-warn-script-location.\u001b[0m\u001b[33m\n",
      "\u001b[0m\u001b[31mERROR: pip's dependency resolver does not currently take into account all the packages that are installed. This behaviour is the source of the following dependency conflicts.\n",
      "opencv-python 4.12.0.88 requires numpy<2.3.0,>=2; python_version >= \"3.9\", but you have numpy 1.26.4 which is incompatible.\u001b[0m\u001b[31m\n",
      "\u001b[0mSuccessfully installed numpy-1.26.4\n",
      "Note: you may need to restart the kernel to use updated packages.\n"
     ]
    }
   ],
   "source": [
    "pip install --user matplotlib\n"
   ]
  },
  {
   "cell_type": "code",
   "execution_count": 18,
   "metadata": {},
   "outputs": [
    {
     "name": "stdout",
     "output_type": "stream",
     "text": [
      "Requirement already satisfied: scikit-learn in /opt/anaconda3/lib/python3.12/site-packages (1.5.1)\n",
      "Requirement already satisfied: numpy>=1.19.5 in /Users/shreetsu/.local/lib/python3.12/site-packages (from scikit-learn) (1.26.4)\n",
      "Requirement already satisfied: scipy>=1.6.0 in /opt/anaconda3/lib/python3.12/site-packages (from scikit-learn) (1.13.1)\n",
      "Requirement already satisfied: joblib>=1.2.0 in /opt/anaconda3/lib/python3.12/site-packages (from scikit-learn) (1.4.2)\n",
      "Requirement already satisfied: threadpoolctl>=3.1.0 in /opt/anaconda3/lib/python3.12/site-packages (from scikit-learn) (3.5.0)\n",
      "Note: you may need to restart the kernel to use updated packages.\n"
     ]
    }
   ],
   "source": [
    "pip install scikit-learn\n"
   ]
  },
  {
   "cell_type": "code",
   "execution_count": 19,
   "metadata": {},
   "outputs": [],
   "source": [
    "import numpy as np\n",
    "from itertools import combinations\n",
    "import os\n",
    "import sys\n",
    "from prnu.functions import noise_extract_compact, rgb2gray # Assumed available\n",
    "# NOTE: The prnu library must be accessible (sys.path or installed) for noise_extract_compact and rgb2gray.\n",
    "\n",
    "# --- ESSENTIAL HELPER FUNCTIONS FOR JACCARD METHOD ---\n",
    "\n",
    "def jaccard_similarity(mask_a, mask_b):\n",
    "    \"\"\"Calculates Jaccard Index (Intersection / Union) on boolean masks.\"\"\"\n",
    "    if mask_a.shape != mask_b.shape:\n",
    "        raise ValueError(\"Masks must have the same shape.\")\n",
    "    \n",
    "    intersection = np.logical_and(mask_a, mask_b)\n",
    "    union = np.logical_or(mask_a, mask_b)\n",
    "    \n",
    "    sum_union = np.sum(union)\n",
    "    return np.sum(intersection) / sum_union if sum_union != 0 else 0.0\n",
    "\n",
    "def reduce_prnu(prnu_array_list, p_low, p_high=100):\n",
    "    \"\"\"Applies percentile thresholding to keep only high-magnitude noise locations.\"\"\"\n",
    "    reduced_prnu_masks = []\n",
    "    \n",
    "    # Ensure input is iterable; handle single fingerprint K_hat which may be a 2D or 3D array\n",
    "    if not isinstance(prnu_array_list, list):\n",
    "         prnu_array_list = [prnu_array_list]\n",
    "         \n",
    "    for prnu_array in prnu_array_list:\n",
    "        # If the input is a single 3D fingerprint (K_hat), we use its noise pattern directly.\n",
    "        # The reduction is applied to the absolute magnitude of the array.\n",
    "        abs_prnu = np.abs(prnu_array)\n",
    "        \n",
    "        # If the array is 3D (multiple noise residuals), find percentile across all data points\n",
    "        data_to_percentile = abs_prnu.flatten()\n",
    "        val1 = np.percentile(data_to_percentile, p_low) \n",
    "        val2 = np.percentile(data_to_percentile, p_high)\n",
    "\n",
    "        # Create the boolean mask\n",
    "        reduced_mask = (abs_prnu > val1) & (abs_prnu <= val2) \n",
    "        \n",
    "        # If it's a 3D array, we might want to process each slice (each residual)\n",
    "        if reduced_mask.ndim == 3:\n",
    "            for i in range(reduced_mask.shape[0]):\n",
    "                reduced_prnu_masks.append(reduced_mask[i, :, :])\n",
    "        else:\n",
    "            reduced_prnu_masks.append(reduced_mask)\n",
    "        \n",
    "    return reduced_prnu_masks\n",
    "\n",
    "def generate_cumulative_match_matrix(prnu_mask_list):\n",
    "    \"\"\"Counts, per pixel, how many pairs of masks had a matching (True) location.\"\"\"\n",
    "    if not prnu_mask_list or len(prnu_mask_list) < 2:\n",
    "        # If only one mask is provided (e.g., one K_hat fingerprint), treat it as the cumulative match.\n",
    "        if prnu_mask_list:\n",
    "            return prnu_mask_list[0].astype(int) \n",
    "        return None\n",
    "\n",
    "    prnu_mask_pairs = list(combinations(prnu_mask_list, 2))\n",
    "    \n",
    "    shape = prnu_mask_list[0].shape\n",
    "    cumulative_matches = np.zeros(shape, dtype=int)\n",
    "    \n",
    "    for mask_a, mask_b in prnu_mask_pairs:\n",
    "        intersection = np.logical_and(mask_a, mask_b)\n",
    "        cumulative_matches += intersection.astype(int)\n",
    "        \n",
    "    return cumulative_matches"
   ]
  },
  {
   "cell_type": "code",
   "execution_count": 23,
   "metadata": {},
   "outputs": [
    {
     "name": "stdout",
     "output_type": "stream",
     "text": [
      "\n",
      "--- Starting Multi-Class Jaccard Matching Test (One-vs-All) ---\n",
      "Comparing query image against 4 fingerprints...\n",
      "  - Jaccard with Samsung S23 5g: 0.119237\n",
      "  - Jaccard with Samsung S21 FE: 0.117921\n",
      "  - Jaccard with iphone15: 0.118632\n",
      "  - Jaccard with OnePlus Nord CE4: 0.117802\n",
      "\n",
      "--- Final Multi-Class Results ---\n",
      "🚀 The best match for the image is: **Samsung S23 5g**\n",
      "   with the highest Jaccard Similarity Score of: 0.119237\n",
      "\n",
      "All Scores:\n",
      "  Samsung S23 5g: 0.119237\n",
      "  Samsung S21 FE: 0.117921\n",
      "  iphone15: 0.118632\n",
      "  OnePlus Nord CE4: 0.117802\n"
     ]
    }
   ],
   "source": [
    "import glob\n",
    "from PIL import Image\n",
    "from matplotlib import pyplot as plt\n",
    "import sys\n",
    "import os\n",
    "import numpy as np\n",
    "\n",
    "# --- PATHS AND SETUP ---\n",
    "data_directory = r\"/Users/shreetsu/prnu-camera-source-detection/data\" \n",
    "fingerprint_directory = os.path.join(os.path.dirname(data_directory), 'fingerprints')\n",
    "\n",
    "# CRITICAL: Now used as the list of ALL fingerprints to check against.\n",
    "# The script will iterate through these names.\n",
    "DEVICE_NAMES = ['Samsung S23 5g', 'Samsung S21 FE', 'iphone15', 'OnePlus Nord CE4'] \n",
    "\n",
    "UNKNOWN_IMAGE_PATH = r\"/Users/shreetsu/prnu-camera-source-detection/data/Samsung S23 5g/images/query_set/20231201_163332.jpg\"\n",
    "TARGET_WIDTH = 1024\n",
    "TARGET_HEIGHT = 768\n",
    "\n",
    "\n",
    "## ---------------------------------------------------------------------------\n",
    "## PART 1: LOAD FINGERPRINTS\n",
    "## ---------------------------------------------------------------------------\n",
    "\n",
    "fingerprints = {}\n",
    "for fp_file in os.listdir(fingerprint_directory):\n",
    "    if fp_file.endswith('_fingerprint.npy'):\n",
    "        device_name = fp_file.replace('_fingerprint.npy', '')\n",
    "        fingerprints[device_name] = np.load(os.path.join(fingerprint_directory, fp_file))\n",
    "\n",
    "# --- REMOVE BINARY CHECK ---\n",
    "# Removed: if len(DEVICE_NAMES) != 2 or DEVICE_NAMES[0] not in fingerprints or DEVICE_NAMES[1] not in fingerprints: sys.exit(...)\n",
    "# The script will now proceed with all found fingerprints in DEVICE_NAMES.\n",
    "\n",
    "p_low = 80 # The percentile cut-off used in the paper\n",
    "\n",
    "\n",
    "## ---------------------------------------------------------------------------\n",
    "## PART 2A: JACCARD OPTIMIZATION: REMOVED\n",
    "## ---------------------------------------------------------------------------\n",
    "# The binary \"Difference Mask Template\" logic is removed as it does not apply to multi-class comparison. \n",
    "# We will compare the query image directly against each fingerprint mask.\n",
    "\n",
    "\n",
    "## ---------------------------------------------------------------------------\n",
    "## PART 2B: MATCH UNKNOWN IMAGE USING MULTI-CLASS JACCARD\n",
    "## ---------------------------------------------------------------------------\n",
    "print(\"\\n--- Starting Multi-Class Jaccard Matching Test (One-vs-All) ---\")\n",
    "\n",
    "# Step 1: Extract Noise Residual (W) from unknown image\n",
    "try:\n",
    "    unknown_img = Image.open(UNKNOWN_IMAGE_PATH).convert('RGB')\n",
    "    unknown_img = unknown_img.resize((TARGET_WIDTH, TARGET_HEIGHT), Image.LANCZOS)\n",
    "    unknown_np = np.array(unknown_img, dtype=np.uint8)\n",
    "except Exception as e:\n",
    "    raise ValueError(f\"Could not read query image: {UNKNOWN_IMAGE_PATH} ({e})\")\n",
    "\n",
    "# Extract noise residual (W) using the PRNU library\n",
    "query_noise = noise_extract_compact((unknown_np, 4, 2))\n",
    "query_noise_gray = rgb2gray(query_noise)\n",
    "\n",
    "# Step 2: Reduce Noise Residual to Boolean Mask\n",
    "# This is the mask of high-magnitude noise locations for the unknown image.\n",
    "query_mask = reduce_prnu(query_noise_gray, p_low=p_low)[0] \n",
    "\n",
    "\n",
    "# Step 3: Calculate Jaccard Similarity against all loaded fingerprints\n",
    "best_match_device = None\n",
    "highest_jaccard = -1.0\n",
    "jaccard_results = {}\n",
    "\n",
    "print(f\"Comparing query image against {len(DEVICE_NAMES)} fingerprints...\")\n",
    "\n",
    "for device_name in DEVICE_NAMES:\n",
    "    if device_name not in fingerprints:\n",
    "        print(f\"⚠️ Fingerprint not found for {device_name}. Skipping.\")\n",
    "        continue\n",
    "        \n",
    "    fp = fingerprints[device_name]\n",
    "    \n",
    "    # Reduce the fingerprint to its characteristic noise location mask\n",
    "    fp_mask = reduce_prnu(fp, p_low=p_low)[0]\n",
    "    \n",
    "    # Calculate Jaccard Score\n",
    "    jaccard_score = jaccard_similarity(query_mask, fp_mask)\n",
    "    jaccard_results[device_name] = jaccard_score\n",
    "    \n",
    "    if jaccard_score > highest_jaccard:\n",
    "        highest_jaccard = jaccard_score\n",
    "        best_match_device = device_name\n",
    "        \n",
    "    print(f\"  - Jaccard with {device_name}: {jaccard_score:.6f}\")\n",
    "\n",
    "\n",
    "# --- Results ---\n",
    "print(\"\\n--- Final Multi-Class Results ---\")\n",
    "if best_match_device:\n",
    "    print(f\"🚀 The best match for the image is: **{best_match_device}**\")\n",
    "    print(f\"   with the highest Jaccard Similarity Score of: {highest_jaccard:.6f}\")\n",
    "else:\n",
    "    print(\"⚠️ No valid fingerprints were found for comparison.\")\n",
    "\n",
    "\n",
    "# Optional: Display all scores\n",
    "print(\"\\nAll Scores:\")\n",
    "for device, score in jaccard_results.items():\n",
    "    print(f\"  {device}: {score:.6f}\")"
   ]
  },
  {
   "cell_type": "code",
   "execution_count": null,
   "metadata": {},
   "outputs": [],
   "source": []
  }
 ],
 "metadata": {
  "kernelspec": {
   "display_name": "base",
   "language": "python",
   "name": "python3"
  },
  "language_info": {
   "codemirror_mode": {
    "name": "ipython",
    "version": 3
   },
   "file_extension": ".py",
   "mimetype": "text/x-python",
   "name": "python",
   "nbconvert_exporter": "python",
   "pygments_lexer": "ipython3",
   "version": "3.12.7"
  },
  "orig_nbformat": 4
 },
 "nbformat": 4,
 "nbformat_minor": 2
}
