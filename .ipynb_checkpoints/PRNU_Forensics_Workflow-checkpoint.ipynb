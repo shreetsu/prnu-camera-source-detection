{
 "cells": [
  {
   "cell_type": "code",
   "execution_count": 1,
   "id": "767249af",
   "metadata": {},
   "outputs": [
    {
     "name": "stdout",
     "output_type": "stream",
     "text": [
      "Requirement already satisfied: opencv-python in c:\\python312\\lib\\site-packages (4.12.0.88)\n",
      "Requirement already satisfied: numpy<2.3.0,>=2 in c:\\python312\\lib\\site-packages (from opencv-python) (2.0.0)\n",
      "Note: you may need to restart the kernel to use updated packages.\n"
     ]
    }
   ],
   "source": [
    "pip install opencv-python"
   ]
  },
  {
   "cell_type": "code",
   "execution_count": 2,
   "id": "5a73be5a",
   "metadata": {},
   "outputs": [
    {
     "name": "stdout",
     "output_type": "stream",
     "text": [
      "Collecting numpy==1.23.5 (from -r ../prnu-python/requirements.txt (line 1))\n",
      "  Using cached numpy-1.23.5.tar.gz (10.7 MB)\n",
      "  Installing build dependencies: started\n",
      "  Installing build dependencies: finished with status 'done'\n",
      "  Getting requirements to build wheel: started\n",
      "  Getting requirements to build wheel: finished with status 'error'\n",
      "Note: you may need to restart the kernel to use updated packages.\n"
     ]
    },
    {
     "name": "stderr",
     "output_type": "stream",
     "text": [
      "  error: subprocess-exited-with-error\n",
      "  \n",
      "  × Getting requirements to build wheel did not run successfully.\n",
      "  │ exit code: 1\n",
      "  ╰─> [33 lines of output]\n",
      "      Traceback (most recent call last):\n",
      "        File \"C:\\Users\\inamy\\AppData\\Roaming\\Python\\Python312\\site-packages\\pip\\_vendor\\pyproject_hooks\\_in_process\\_in_process.py\", line 389, in <module>\n",
      "          main()\n",
      "        File \"C:\\Users\\inamy\\AppData\\Roaming\\Python\\Python312\\site-packages\\pip\\_vendor\\pyproject_hooks\\_in_process\\_in_process.py\", line 373, in main\n",
      "          json_out[\"return_val\"] = hook(**hook_input[\"kwargs\"])\n",
      "                                   ^^^^^^^^^^^^^^^^^^^^^^^^^^^^\n",
      "        File \"C:\\Users\\inamy\\AppData\\Roaming\\Python\\Python312\\site-packages\\pip\\_vendor\\pyproject_hooks\\_in_process\\_in_process.py\", line 137, in get_requires_for_build_wheel\n",
      "          backend = _build_backend()\n",
      "                    ^^^^^^^^^^^^^^^^\n",
      "        File \"C:\\Users\\inamy\\AppData\\Roaming\\Python\\Python312\\site-packages\\pip\\_vendor\\pyproject_hooks\\_in_process\\_in_process.py\", line 70, in _build_backend\n",
      "          obj = import_module(mod_path)\n",
      "                ^^^^^^^^^^^^^^^^^^^^^^^\n",
      "        File \"c:\\Python312\\Lib\\importlib\\__init__.py\", line 90, in import_module\n",
      "          return _bootstrap._gcd_import(name[level:], package, level)\n",
      "                 ^^^^^^^^^^^^^^^^^^^^^^^^^^^^^^^^^^^^^^^^^^^^^^^^^^^^\n",
      "        File \"<frozen importlib._bootstrap>\", line 1387, in _gcd_import\n",
      "        File \"<frozen importlib._bootstrap>\", line 1360, in _find_and_load\n",
      "        File \"<frozen importlib._bootstrap>\", line 1310, in _find_and_load_unlocked\n",
      "        File \"<frozen importlib._bootstrap>\", line 488, in _call_with_frames_removed\n",
      "        File \"<frozen importlib._bootstrap>\", line 1387, in _gcd_import\n",
      "        File \"<frozen importlib._bootstrap>\", line 1360, in _find_and_load\n",
      "        File \"<frozen importlib._bootstrap>\", line 1331, in _find_and_load_unlocked\n",
      "        File \"<frozen importlib._bootstrap>\", line 935, in _load_unlocked\n",
      "        File \"<frozen importlib._bootstrap_external>\", line 995, in exec_module\n",
      "        File \"<frozen importlib._bootstrap>\", line 488, in _call_with_frames_removed\n",
      "        File \"C:\\Users\\inamy\\AppData\\Local\\Temp\\pip-build-env-2nitvges\\overlay\\Lib\\site-packages\\setuptools\\__init__.py\", line 16, in <module>\n",
      "          import setuptools.version\n",
      "        File \"C:\\Users\\inamy\\AppData\\Local\\Temp\\pip-build-env-2nitvges\\overlay\\Lib\\site-packages\\setuptools\\version.py\", line 1, in <module>\n",
      "          import pkg_resources\n",
      "        File \"C:\\Users\\inamy\\AppData\\Local\\Temp\\pip-build-env-2nitvges\\overlay\\Lib\\site-packages\\pkg_resources\\__init__.py\", line 2172, in <module>\n",
      "          register_finder(pkgutil.ImpImporter, find_on_path)\n",
      "                          ^^^^^^^^^^^^^^^^^^^\n",
      "      AttributeError: module 'pkgutil' has no attribute 'ImpImporter'. Did you mean: 'zipimporter'?\n",
      "      [end of output]\n",
      "  \n",
      "  note: This error originates from a subprocess, and is likely not a problem with pip.\n",
      "error: subprocess-exited-with-error\n",
      "\n",
      "× Getting requirements to build wheel did not run successfully.\n",
      "│ exit code: 1\n",
      "╰─> See above for output.\n",
      "\n",
      "note: This error originates from a subprocess, and is likely not a problem with pip.\n"
     ]
    }
   ],
   "source": [
    "pip install -r ../prnu-python/requirements.txt\n"
   ]
  },
  {
   "cell_type": "code",
   "execution_count": 3,
   "id": "5b4b308b",
   "metadata": {},
   "outputs": [],
   "source": [
    "import sys\n",
    "sys.path.append(r'c:\\Users\\inamy\\Desktop\\minor project\\prnu-camera-source-detection\\prnu-python')\n"
   ]
  },
  {
   "cell_type": "code",
   "execution_count": 4,
   "id": "fb8e5b51",
   "metadata": {},
   "outputs": [
    {
     "name": "stdout",
     "output_type": "stream",
     "text": [
      "Requirement already satisfied: numpy in c:\\python312\\lib\\site-packages (2.0.0)\n",
      "Note: you may need to restart the kernel to use updated packages.\n"
     ]
    }
   ],
   "source": [
    "pip install --user numpy\n"
   ]
  },
  {
   "cell_type": "code",
   "execution_count": 5,
   "id": "fe6fc6ba",
   "metadata": {},
   "outputs": [
    {
     "name": "stdout",
     "output_type": "stream",
     "text": [
      "Requirement already satisfied: opencv-python in c:\\python312\\lib\\site-packages (4.12.0.88)\n",
      "Requirement already satisfied: numpy<2.3.0,>=2 in c:\\python312\\lib\\site-packages (from opencv-python) (2.0.0)\n",
      "Note: you may need to restart the kernel to use updated packages.\n"
     ]
    }
   ],
   "source": [
    "pip install --user opencv-python\n"
   ]
  },
  {
   "cell_type": "code",
   "execution_count": 6,
   "id": "b262571e",
   "metadata": {},
   "outputs": [
    {
     "name": "stdout",
     "output_type": "stream",
     "text": [
      "Requirement already satisfied: PyWavelets in c:\\users\\inamy\\appdata\\roaming\\python\\python312\\site-packages (1.9.0)\n",
      "Requirement already satisfied: numpy<3,>=1.25 in c:\\python312\\lib\\site-packages (from PyWavelets) (2.0.0)\n",
      "Note: you may need to restart the kernel to use updated packages.\n"
     ]
    }
   ],
   "source": [
    "pip install --user PyWavelets\n"
   ]
  },
  {
   "cell_type": "code",
   "execution_count": 7,
   "id": "6a673a76",
   "metadata": {},
   "outputs": [
    {
     "name": "stdout",
     "output_type": "stream",
     "text": [
      "Requirement already satisfied: scipy in c:\\users\\inamy\\appdata\\roaming\\python\\python312\\site-packages (1.16.2)\n",
      "Requirement already satisfied: numpy<2.6,>=1.25.2 in c:\\python312\\lib\\site-packages (from scipy) (2.0.0)\n",
      "Note: you may need to restart the kernel to use updated packages.\n"
     ]
    }
   ],
   "source": [
    "pip install --user scipy"
   ]
  },
  {
   "cell_type": "code",
   "execution_count": 8,
   "id": "a98e7767",
   "metadata": {},
   "outputs": [
    {
     "name": "stdout",
     "output_type": "stream",
     "text": [
      "Requirement already satisfied: matplotlib in c:\\users\\inamy\\appdata\\roaming\\python\\python312\\site-packages (3.10.7)\n",
      "Requirement already satisfied: contourpy>=1.0.1 in c:\\users\\inamy\\appdata\\roaming\\python\\python312\\site-packages (from matplotlib) (1.3.3)\n",
      "Requirement already satisfied: cycler>=0.10 in c:\\users\\inamy\\appdata\\roaming\\python\\python312\\site-packages (from matplotlib) (0.12.1)\n",
      "Requirement already satisfied: fonttools>=4.22.0 in c:\\python312\\lib\\site-packages (from matplotlib) (4.60.1)\n",
      "Requirement already satisfied: kiwisolver>=1.3.1 in c:\\python312\\lib\\site-packages (from matplotlib) (1.4.9)\n",
      "Requirement already satisfied: numpy>=1.23 in c:\\python312\\lib\\site-packages (from matplotlib) (2.0.0)\n",
      "Requirement already satisfied: packaging>=20.0 in c:\\python312\\lib\\site-packages (from matplotlib) (24.2)\n",
      "Requirement already satisfied: pillow>=8 in c:\\python312\\lib\\site-packages (from matplotlib) (11.3.0)\n",
      "Requirement already satisfied: pyparsing>=3 in c:\\python312\\lib\\site-packages (from matplotlib) (3.2.5)\n",
      "Requirement already satisfied: python-dateutil>=2.7 in c:\\python312\\lib\\site-packages (from matplotlib) (2.9.0.post0)\n",
      "Requirement already satisfied: six>=1.5 in c:\\python312\\lib\\site-packages (from python-dateutil>=2.7->matplotlib) (1.16.0)\n",
      "Note: you may need to restart the kernel to use updated packages.\n"
     ]
    }
   ],
   "source": [
    "pip install --user matplotlib\n"
   ]
  },
  {
   "cell_type": "code",
   "execution_count": 9,
   "id": "dacbde66",
   "metadata": {},
   "outputs": [
    {
     "name": "stdout",
     "output_type": "stream",
     "text": [
      "Requirement already satisfied: glob2 in c:\\users\\inamy\\appdata\\roaming\\python\\python312\\site-packages (0.7)\n",
      "Note: you may need to restart the kernel to use updated packages.\n"
     ]
    }
   ],
   "source": [
    "pip install --user glob2\n"
   ]
  },
  {
   "cell_type": "code",
   "execution_count": 10,
   "id": "d61e132a",
   "metadata": {},
   "outputs": [
    {
     "name": "stdout",
     "output_type": "stream",
     "text": [
      "Requirement already satisfied: scikit-learn in c:\\python312\\lib\\site-packages (1.7.2)\n",
      "Requirement already satisfied: numpy>=1.22.0 in c:\\python312\\lib\\site-packages (from scikit-learn) (2.0.0)\n",
      "Requirement already satisfied: scipy>=1.8.0 in c:\\users\\inamy\\appdata\\roaming\\python\\python312\\site-packages (from scikit-learn) (1.16.2)\n",
      "Requirement already satisfied: joblib>=1.2.0 in c:\\python312\\lib\\site-packages (from scikit-learn) (1.5.2)\n",
      "Requirement already satisfied: threadpoolctl>=3.1.0 in c:\\python312\\lib\\site-packages (from scikit-learn) (3.6.0)\n",
      "Note: you may need to restart the kernel to use updated packages.\n"
     ]
    }
   ],
   "source": [
    "pip install scikit-learn\n"
   ]
  },
  {
   "cell_type": "code",
   "execution_count": 11,
   "id": "2c36e53a",
   "metadata": {},
   "outputs": [
    {
     "name": "stdout",
     "output_type": "stream",
     "text": [
      "✅ Setup complete. All libraries and PRNU functions are ready to use.\n"
     ]
    }
   ],
   "source": [
    "import sys\n",
    "import os\n",
    "import numpy as np\n",
    "import cv2\n",
    "from matplotlib import pyplot as plt\n",
    "from glob import glob\n",
    "\n",
    "# Add prnu-python folder to path\n",
    "sys.path.append('../prnu-python')\n",
    "\n",
    "from prnu import *\n",
    "\n",
    "print(\"✅ Setup complete. All libraries and PRNU functions are ready to use.\")\n"
   ]
  },
  {
   "cell_type": "code",
   "execution_count": 12,
   "id": "e7175e90",
   "metadata": {},
   "outputs": [
    {
     "name": "stdout",
     "output_type": "stream",
     "text": [
      "✅ Successfully imported PRNU functions.\n",
      "Found device folders: ['iphone15', 'OnePlus Nord CE4', 'Samsung S21 FE', 'Samsung S23 5g']\n",
      "\n",
      "Processing fingerprint images for: iphone15...\n",
      "Number of images for iphone15: 39\n",
      "  Image 0 shape: (768, 1024, 3), dtype: uint8\n",
      "  Image 1 shape: (768, 1024, 3), dtype: uint8\n",
      "  Image 2 shape: (768, 1024, 3), dtype: uint8\n",
      "  Image 3 shape: (768, 1024, 3), dtype: uint8\n",
      "  Image 4 shape: (768, 1024, 3), dtype: uint8\n",
      "  Image 5 shape: (768, 1024, 3), dtype: uint8\n",
      "  Image 6 shape: (768, 1024, 3), dtype: uint8\n",
      "  Image 7 shape: (768, 1024, 3), dtype: uint8\n",
      "  Image 8 shape: (768, 1024, 3), dtype: uint8\n",
      "  Image 9 shape: (768, 1024, 3), dtype: uint8\n",
      "  Image 10 shape: (768, 1024, 3), dtype: uint8\n",
      "  Image 11 shape: (768, 1024, 3), dtype: uint8\n",
      "  Image 12 shape: (768, 1024, 3), dtype: uint8\n",
      "  Image 13 shape: (768, 1024, 3), dtype: uint8\n",
      "  Image 14 shape: (768, 1024, 3), dtype: uint8\n",
      "  Image 15 shape: (768, 1024, 3), dtype: uint8\n",
      "  Image 16 shape: (768, 1024, 3), dtype: uint8\n",
      "  Image 17 shape: (768, 1024, 3), dtype: uint8\n",
      "  Image 18 shape: (768, 1024, 3), dtype: uint8\n",
      "  Image 19 shape: (768, 1024, 3), dtype: uint8\n",
      "  Image 20 shape: (768, 1024, 3), dtype: uint8\n",
      "  Image 21 shape: (768, 1024, 3), dtype: uint8\n",
      "  Image 22 shape: (768, 1024, 3), dtype: uint8\n",
      "  Image 23 shape: (768, 1024, 3), dtype: uint8\n",
      "  Image 24 shape: (768, 1024, 3), dtype: uint8\n",
      "  Image 25 shape: (768, 1024, 3), dtype: uint8\n",
      "  Image 26 shape: (768, 1024, 3), dtype: uint8\n",
      "  Image 27 shape: (768, 1024, 3), dtype: uint8\n",
      "  Image 28 shape: (768, 1024, 3), dtype: uint8\n",
      "  Image 29 shape: (768, 1024, 3), dtype: uint8\n",
      "  Image 30 shape: (768, 1024, 3), dtype: uint8\n",
      "  Image 31 shape: (768, 1024, 3), dtype: uint8\n",
      "  Image 32 shape: (768, 1024, 3), dtype: uint8\n",
      "  Image 33 shape: (768, 1024, 3), dtype: uint8\n",
      "  Image 34 shape: (768, 1024, 3), dtype: uint8\n",
      "  Image 35 shape: (768, 1024, 3), dtype: uint8\n",
      "  Image 36 shape: (768, 1024, 3), dtype: uint8\n",
      "  Image 37 shape: (768, 1024, 3), dtype: uint8\n",
      "  Image 38 shape: (768, 1024, 3), dtype: uint8\n"
     ]
    },
    {
     "name": "stderr",
     "output_type": "stream",
     "text": [
      "100%|██████████| 39/39 [00:20<00:00,  1.93it/s]\n"
     ]
    },
    {
     "name": "stdout",
     "output_type": "stream",
     "text": [
      "✅ Fingerprint for iphone15 saved to: C:\\Users\\inamy\\Desktop\\minor project\\prnu-camera-source-detection\\fingerprints\\iphone15_fingerprint.npy\n",
      "\n",
      "Processing fingerprint images for: OnePlus Nord CE4...\n",
      "Number of images for OnePlus Nord CE4: 50\n",
      "  Image 0 shape: (768, 1024, 3), dtype: uint8\n",
      "  Image 1 shape: (768, 1024, 3), dtype: uint8\n",
      "  Image 2 shape: (768, 1024, 3), dtype: uint8\n",
      "  Image 3 shape: (768, 1024, 3), dtype: uint8\n",
      "  Image 4 shape: (768, 1024, 3), dtype: uint8\n",
      "  Image 5 shape: (768, 1024, 3), dtype: uint8\n",
      "  Image 6 shape: (768, 1024, 3), dtype: uint8\n",
      "  Image 7 shape: (768, 1024, 3), dtype: uint8\n",
      "  Image 8 shape: (768, 1024, 3), dtype: uint8\n",
      "  Image 9 shape: (768, 1024, 3), dtype: uint8\n",
      "  Image 10 shape: (768, 1024, 3), dtype: uint8\n",
      "  Image 11 shape: (768, 1024, 3), dtype: uint8\n",
      "  Image 12 shape: (768, 1024, 3), dtype: uint8\n",
      "  Image 13 shape: (768, 1024, 3), dtype: uint8\n",
      "  Image 14 shape: (768, 1024, 3), dtype: uint8\n",
      "  Image 15 shape: (768, 1024, 3), dtype: uint8\n",
      "  Image 16 shape: (768, 1024, 3), dtype: uint8\n",
      "  Image 17 shape: (768, 1024, 3), dtype: uint8\n",
      "  Image 18 shape: (768, 1024, 3), dtype: uint8\n",
      "  Image 19 shape: (768, 1024, 3), dtype: uint8\n",
      "  Image 20 shape: (768, 1024, 3), dtype: uint8\n",
      "  Image 21 shape: (768, 1024, 3), dtype: uint8\n",
      "  Image 22 shape: (768, 1024, 3), dtype: uint8\n",
      "  Image 23 shape: (768, 1024, 3), dtype: uint8\n",
      "  Image 24 shape: (768, 1024, 3), dtype: uint8\n",
      "  Image 25 shape: (768, 1024, 3), dtype: uint8\n",
      "  Image 26 shape: (768, 1024, 3), dtype: uint8\n",
      "  Image 27 shape: (768, 1024, 3), dtype: uint8\n",
      "  Image 28 shape: (768, 1024, 3), dtype: uint8\n",
      "  Image 29 shape: (768, 1024, 3), dtype: uint8\n",
      "  Image 30 shape: (768, 1024, 3), dtype: uint8\n",
      "  Image 31 shape: (768, 1024, 3), dtype: uint8\n",
      "  Image 32 shape: (768, 1024, 3), dtype: uint8\n",
      "  Image 33 shape: (768, 1024, 3), dtype: uint8\n",
      "  Image 34 shape: (768, 1024, 3), dtype: uint8\n",
      "  Image 35 shape: (768, 1024, 3), dtype: uint8\n",
      "  Image 36 shape: (768, 1024, 3), dtype: uint8\n",
      "  Image 37 shape: (768, 1024, 3), dtype: uint8\n",
      "  Image 38 shape: (768, 1024, 3), dtype: uint8\n",
      "  Image 39 shape: (768, 1024, 3), dtype: uint8\n",
      "  Image 40 shape: (768, 1024, 3), dtype: uint8\n",
      "  Image 41 shape: (768, 1024, 3), dtype: uint8\n",
      "  Image 42 shape: (768, 1024, 3), dtype: uint8\n",
      "  Image 43 shape: (768, 1024, 3), dtype: uint8\n",
      "  Image 44 shape: (768, 1024, 3), dtype: uint8\n",
      "  Image 45 shape: (768, 1024, 3), dtype: uint8\n",
      "  Image 46 shape: (768, 1024, 3), dtype: uint8\n",
      "  Image 47 shape: (768, 1024, 3), dtype: uint8\n",
      "  Image 48 shape: (768, 1024, 3), dtype: uint8\n",
      "  Image 49 shape: (768, 1024, 3), dtype: uint8\n"
     ]
    },
    {
     "name": "stderr",
     "output_type": "stream",
     "text": [
      "100%|██████████| 50/50 [00:25<00:00,  1.93it/s]\n"
     ]
    },
    {
     "name": "stdout",
     "output_type": "stream",
     "text": [
      "✅ Fingerprint for OnePlus Nord CE4 saved to: C:\\Users\\inamy\\Desktop\\minor project\\prnu-camera-source-detection\\fingerprints\\OnePlus Nord CE4_fingerprint.npy\n",
      "\n",
      "Processing fingerprint images for: Samsung S21 FE...\n",
      "Number of images for Samsung S21 FE: 30\n",
      "  Image 0 shape: (768, 1024, 3), dtype: uint8\n",
      "  Image 1 shape: (768, 1024, 3), dtype: uint8\n",
      "  Image 2 shape: (768, 1024, 3), dtype: uint8\n",
      "  Image 3 shape: (768, 1024, 3), dtype: uint8\n",
      "  Image 4 shape: (768, 1024, 3), dtype: uint8\n",
      "  Image 5 shape: (768, 1024, 3), dtype: uint8\n",
      "  Image 6 shape: (768, 1024, 3), dtype: uint8\n",
      "  Image 7 shape: (768, 1024, 3), dtype: uint8\n",
      "  Image 8 shape: (768, 1024, 3), dtype: uint8\n",
      "  Image 9 shape: (768, 1024, 3), dtype: uint8\n",
      "  Image 10 shape: (768, 1024, 3), dtype: uint8\n",
      "  Image 11 shape: (768, 1024, 3), dtype: uint8\n",
      "  Image 12 shape: (768, 1024, 3), dtype: uint8\n",
      "  Image 13 shape: (768, 1024, 3), dtype: uint8\n",
      "  Image 14 shape: (768, 1024, 3), dtype: uint8\n",
      "  Image 15 shape: (768, 1024, 3), dtype: uint8\n",
      "  Image 16 shape: (768, 1024, 3), dtype: uint8\n",
      "  Image 17 shape: (768, 1024, 3), dtype: uint8\n",
      "  Image 18 shape: (768, 1024, 3), dtype: uint8\n",
      "  Image 19 shape: (768, 1024, 3), dtype: uint8\n",
      "  Image 20 shape: (768, 1024, 3), dtype: uint8\n",
      "  Image 21 shape: (768, 1024, 3), dtype: uint8\n",
      "  Image 22 shape: (768, 1024, 3), dtype: uint8\n",
      "  Image 23 shape: (768, 1024, 3), dtype: uint8\n",
      "  Image 24 shape: (768, 1024, 3), dtype: uint8\n",
      "  Image 25 shape: (768, 1024, 3), dtype: uint8\n",
      "  Image 26 shape: (768, 1024, 3), dtype: uint8\n",
      "  Image 27 shape: (768, 1024, 3), dtype: uint8\n",
      "  Image 28 shape: (768, 1024, 3), dtype: uint8\n",
      "  Image 29 shape: (768, 1024, 3), dtype: uint8\n"
     ]
    },
    {
     "name": "stderr",
     "output_type": "stream",
     "text": [
      "100%|██████████| 30/30 [00:15<00:00,  1.95it/s]\n"
     ]
    },
    {
     "name": "stdout",
     "output_type": "stream",
     "text": [
      "✅ Fingerprint for Samsung S21 FE saved to: C:\\Users\\inamy\\Desktop\\minor project\\prnu-camera-source-detection\\fingerprints\\Samsung S21 FE_fingerprint.npy\n",
      "\n",
      "Processing fingerprint images for: Samsung S23 5g...\n",
      "Number of images for Samsung S23 5g: 28\n",
      "  Image 0 shape: (768, 1024, 3), dtype: uint8\n",
      "  Image 1 shape: (768, 1024, 3), dtype: uint8\n",
      "  Image 2 shape: (768, 1024, 3), dtype: uint8\n",
      "  Image 3 shape: (768, 1024, 3), dtype: uint8\n",
      "  Image 4 shape: (768, 1024, 3), dtype: uint8\n",
      "  Image 5 shape: (768, 1024, 3), dtype: uint8\n",
      "  Image 6 shape: (768, 1024, 3), dtype: uint8\n",
      "  Image 7 shape: (768, 1024, 3), dtype: uint8\n",
      "  Image 8 shape: (768, 1024, 3), dtype: uint8\n",
      "  Image 9 shape: (768, 1024, 3), dtype: uint8\n",
      "  Image 10 shape: (768, 1024, 3), dtype: uint8\n",
      "  Image 11 shape: (768, 1024, 3), dtype: uint8\n",
      "  Image 12 shape: (768, 1024, 3), dtype: uint8\n",
      "  Image 13 shape: (768, 1024, 3), dtype: uint8\n",
      "  Image 14 shape: (768, 1024, 3), dtype: uint8\n",
      "  Image 15 shape: (768, 1024, 3), dtype: uint8\n",
      "  Image 16 shape: (768, 1024, 3), dtype: uint8\n",
      "  Image 17 shape: (768, 1024, 3), dtype: uint8\n",
      "  Image 18 shape: (768, 1024, 3), dtype: uint8\n",
      "  Image 19 shape: (768, 1024, 3), dtype: uint8\n",
      "  Image 20 shape: (768, 1024, 3), dtype: uint8\n",
      "  Image 21 shape: (768, 1024, 3), dtype: uint8\n",
      "  Image 22 shape: (768, 1024, 3), dtype: uint8\n",
      "  Image 23 shape: (768, 1024, 3), dtype: uint8\n",
      "  Image 24 shape: (768, 1024, 3), dtype: uint8\n",
      "  Image 25 shape: (768, 1024, 3), dtype: uint8\n",
      "  Image 26 shape: (768, 1024, 3), dtype: uint8\n",
      "  Image 27 shape: (768, 1024, 3), dtype: uint8\n"
     ]
    },
    {
     "name": "stderr",
     "output_type": "stream",
     "text": [
      "100%|██████████| 28/28 [00:15<00:00,  1.84it/s]\n"
     ]
    },
    {
     "name": "stdout",
     "output_type": "stream",
     "text": [
      "✅ Fingerprint for Samsung S23 5g saved to: C:\\Users\\inamy\\Desktop\\minor project\\prnu-camera-source-detection\\fingerprints\\Samsung S23 5g_fingerprint.npy\n"
     ]
    }
   ],
   "source": [
    "import os\n",
    "import glob\n",
    "import numpy as np\n",
    "from PIL import Image\n",
    "from prnu import extract_multiple_aligned, crosscorr_2d\n",
    "\n",
    "print(\"✅ Successfully imported PRNU functions.\")\n",
    "\n",
    "## ---------------------------------------------------------------------------\n",
    "## PART 1: CREATE AND SAVE FINGERPRINTS FOR EACH CAMERA\n",
    "## ---------------------------------------------------------------------------\n",
    "\n",
    "data_directory = r\"C:\\Users\\inamy\\Desktop\\minor project\\prnu-camera-source-detection\\data\"\n",
    "fingerprint_directory = os.path.join(os.path.dirname(data_directory), 'fingerprints')\n",
    "os.makedirs(fingerprint_directory, exist_ok=True)\n",
    "\n",
    "device_folders = [f for f in os.listdir(data_directory) if os.path.isdir(os.path.join(data_directory, f))]\n",
    "print(f\"Found device folders: {device_folders}\")\n",
    "\n",
    "for device in device_folders:\n",
    "    print(f\"\\nProcessing fingerprint images for: {device}...\")\n",
    "\n",
    "    # Get all JPG/JPEG images regardless of case\n",
    "    image_paths = glob.glob(os.path.join(data_directory, device, 'images', 'fingerprint_set', '*.[jJ][pP][gG]')) + \\\n",
    "                  glob.glob(os.path.join(data_directory, device, 'images', 'fingerprint_set', '*.[jJ][pP][eE][gG]'))\n",
    "\n",
    "    if not image_paths:\n",
    "        print(f\"⚠️  No images found for {device} fingerprint_set. Skipping.\")\n",
    "        continue\n",
    "\n",
    "    TARGET_WIDTH = 1024\n",
    "    TARGET_HEIGHT = 768\n",
    "\n",
    "    # Read images using PIL\n",
    "    images = []\n",
    "    for path in image_paths:\n",
    "        try:\n",
    "            img = Image.open(path).convert('RGB')  # Ensure 3 channels\n",
    "            img = img.resize((TARGET_WIDTH, TARGET_HEIGHT), Image.LANCZOS)\n",
    "            img_np = np.array(img, dtype=np.uint8)\n",
    "            images.append(img_np)\n",
    "        except Exception as e:\n",
    "            print(f\"⚠️ Could not read image: {path} ({e})\")\n",
    "\n",
    "    if not images:\n",
    "        print(f\"⚠️ No valid images for {device}. Skipping.\")\n",
    "        continue\n",
    "\n",
    "    shapes = set([img.shape for img in images])\n",
    "    if len(shapes) != 1:\n",
    "        print(f\"❌ Mismatched shapes in {device}: {shapes}\")\n",
    "        continue\n",
    "\n",
    "    print(f\"Number of images for {device}: {len(images)}\")\n",
    "    for idx, im in enumerate(images):\n",
    "        print(f\"  Image {idx} shape: {im.shape}, dtype: {im.dtype}\")\n",
    "    \n",
    "    # Extract the camera fingerprint\n",
    "    fingerprint = extract_multiple_aligned(images, processes=0)\n",
    "\n",
    "    # Save the fingerprint\n",
    "    save_path = os.path.join(fingerprint_directory, f\"{device}_fingerprint.npy\")\n",
    "    np.save(save_path, fingerprint)\n",
    "    print(f\"✅ Fingerprint for {device} saved to: {save_path}\")\n",
    "\n",
    "\n"
   ]
  },
  {
   "cell_type": "code",
   "execution_count": null,
   "id": "e317a0aa",
   "metadata": {},
   "outputs": [
    {
     "name": "stdout",
     "output_type": "stream",
     "text": [
      "\n",
      "--- Starting Image Matching Test ---\n",
      "Testing image: C:\\Users\\inamy\\Desktop\\minor project\\prnu-camera-source-detection\\data\\iphone15\\images\\query_set\\6A38C3E6-08D8-419C-A3EE-2E09D8CDCF14.jpeg\n",
      "Loaded 4 fingerprints for matching.\n",
      "  - Correlation with iphone15: 33048.0430\n",
      "  - Correlation with OnePlus Nord CE4: 1318.2919\n",
      "  - Correlation with Samsung S21 FE: 1940.4164\n",
      "  - Correlation with Samsung S23 5g: 1844.5623\n",
      "\n",
      "--- Results ---\n",
      "🚀 The best match for the image is: **iphone15** with a score of 33048.0430\n"
     ]
    }
   ],
   "source": [
    "## ---------------------------------------------------------------------------\n",
    "## PART 2: MATCH AN UNKNOWN IMAGE\n",
    "## ---------------------------------------------------------------------------\n",
    "print(\"\\n--- Starting Image Matching Test ---\")\n",
    "\n",
    "unknown_image_path = r\"C:\\Users\\inamy\\Desktop\\minor project\\prnu-camera-source-detection\\data\\iphone15\\images\\query_set\\6A38C3E6-08D8-419C-A3EE-2E09D8CDCF14.jpeg\"\n",
    "print(f\"Testing image: {unknown_image_path}\")\n",
    "\n",
    "# Read query image with PIL and resize to match fingerprint size\n",
    "TARGET_WIDTH = 1024\n",
    "TARGET_HEIGHT = 768\n",
    "\n",
    "try:\n",
    "    unknown_img = Image.open(unknown_image_path).convert('RGB')\n",
    "    unknown_img = unknown_img.resize((TARGET_WIDTH, TARGET_HEIGHT), Image.LANCZOS)\n",
    "    unknown_np = np.array(unknown_img, dtype=np.uint8)\n",
    "except Exception as e:\n",
    "    raise ValueError(f\"Could not read query image: {unknown_image_path} ({e})\")\n",
    "\n",
    "# ✅ Extract noise residual from the unknown image\n",
    "from prnu.functions import noise_extract_compact, rgb2gray\n",
    "\n",
    "query_noise = noise_extract_compact((unknown_np, 4, 2))  # levels=4, sigma=2 is standard\n",
    "query_noise_gray = rgb2gray(query_noise)\n",
    "\n",
    "# Load all fingerprints\n",
    "fingerprints = {}\n",
    "for fp_file in os.listdir(fingerprint_directory):\n",
    "    if fp_file.endswith('.npy'):\n",
    "        device_name = fp_file.replace('_fingerprint.npy', '')\n",
    "        fingerprints[device_name] = np.load(os.path.join(fingerprint_directory, fp_file))\n",
    "\n",
    "print(f\"Loaded {len(fingerprints)} fingerprints for matching.\")\n",
    "\n",
    "# Compare unknown image against each fingerprint\n",
    "best_match_device = None\n",
    "highest_correlation = -1\n",
    "\n",
    "for device, fingerprint in fingerprints.items():\n",
    "    # Convert fingerprint to grayscale if not already\n",
    "    if fingerprint.ndim == 3:\n",
    "        fp_gray = rgb2gray(fingerprint)\n",
    "    else:\n",
    "        fp_gray = fingerprint\n",
    "\n",
    "    # crosscorr_2d returns a map; take max correlation as score\n",
    "    correlation_map = crosscorr_2d(query_noise_gray, fp_gray)\n",
    "    correlation_score = float(np.max(correlation_map))\n",
    "\n",
    "    print(f\"  - Correlation with {device}: {correlation_score:.4f}\")\n",
    "\n",
    "    if correlation_score > highest_correlation:\n",
    "        highest_correlation = correlation_score\n",
    "        best_match_device = device\n",
    "\n",
    "print(\"\\n--- Results ---\")\n",
    "if best_match_device is not None:\n",
    "    print(f\"🚀 The best match for the image is: **{best_match_device}** with a score of {highest_correlation:.4f}\")\n",
    "else:\n",
    "    print(\"⚠️ No match found.\")\n"
   ]
  },
  {
   "cell_type": "code",
   "execution_count": null,
   "id": "57152c75",
   "metadata": {},
   "outputs": [
    {
     "name": "stdout",
     "output_type": "stream",
     "text": [
      "\n",
      "--- Starting Accuracy Evaluation for All Devices ---\n",
      "\n",
      "📊 Device: iphone15\n",
      "    Total Query Images: 10\n",
      "    Correct Predictions: 10\n",
      "    Accuracy: 100.00%\n",
      "❌ Misclassified IMG20251004162429.jpg | True: OnePlus Nord CE4, Predicted: Samsung S21 FE\n",
      "❌ Misclassified IMG20251004162534.jpg | True: OnePlus Nord CE4, Predicted: Samsung S23 5g\n",
      "❌ Misclassified IMG20251004162710.jpg | True: OnePlus Nord CE4, Predicted: Samsung S21 FE\n",
      "❌ Misclassified IMG20251004162719.jpg | True: OnePlus Nord CE4, Predicted: Samsung S21 FE\n",
      "❌ Misclassified IMG20251004162731.jpg | True: OnePlus Nord CE4, Predicted: Samsung S21 FE\n",
      "❌ Misclassified IMG20251004162928.jpg | True: OnePlus Nord CE4, Predicted: Samsung S23 5g\n",
      "❌ Misclassified IMG20251004163054_01.jpg | True: OnePlus Nord CE4, Predicted: Samsung S23 5g\n",
      "❌ Misclassified IMG20251004163055.jpg | True: OnePlus Nord CE4, Predicted: Samsung S23 5g\n",
      "❌ Misclassified IMG20251004163258.jpg | True: OnePlus Nord CE4, Predicted: Samsung S23 5g\n",
      "❌ Misclassified IMG20251004163416.jpg | True: OnePlus Nord CE4, Predicted: Samsung S23 5g\n",
      "❌ Misclassified IMG20251004163448.jpg | True: OnePlus Nord CE4, Predicted: Samsung S21 FE\n",
      "❌ Misclassified IMG20251004163901.jpg | True: OnePlus Nord CE4, Predicted: Samsung S23 5g\n",
      "❌ Misclassified IMG20251004204647.jpg | True: OnePlus Nord CE4, Predicted: Samsung S23 5g\n",
      "❌ Misclassified IMG20251004204706.jpg | True: OnePlus Nord CE4, Predicted: Samsung S23 5g\n",
      "❌ Misclassified IMG20251004204758.jpg | True: OnePlus Nord CE4, Predicted: Samsung S21 FE\n",
      "❌ Misclassified IMG20251004204838.jpg | True: OnePlus Nord CE4, Predicted: Samsung S23 5g\n",
      "❌ Misclassified IMG20251004205053.jpg | True: OnePlus Nord CE4, Predicted: Samsung S23 5g\n",
      "❌ Misclassified IMG20251004205134.jpg | True: OnePlus Nord CE4, Predicted: Samsung S23 5g\n",
      "❌ Misclassified IMG20251004205505.jpg | True: OnePlus Nord CE4, Predicted: Samsung S23 5g\n",
      "❌ Misclassified IMG20251004205526.jpg | True: OnePlus Nord CE4, Predicted: Samsung S23 5g\n",
      "\n",
      "📊 Device: OnePlus Nord CE4\n",
      "    Total Query Images: 20\n",
      "    Correct Predictions: 0\n",
      "    Accuracy: 0.00%\n",
      "❌ Misclassified 20240427_183522.jpg | True: Samsung S21 FE, Predicted: Samsung S23 5g\n",
      "❌ Misclassified 20240520_181929.jpg | True: Samsung S21 FE, Predicted: Samsung S23 5g\n",
      "❌ Misclassified 20240522_005431.jpg | True: Samsung S21 FE, Predicted: Samsung S23 5g\n",
      "❌ Misclassified 20240522_203604.jpg | True: Samsung S21 FE, Predicted: Samsung S23 5g\n",
      "❌ Misclassified 20240730_170744.jpg | True: Samsung S21 FE, Predicted: Samsung S23 5g\n",
      "❌ Misclassified 20240905_180120.jpg | True: Samsung S21 FE, Predicted: Samsung S23 5g\n",
      "❌ Misclassified 20241001_182014.jpg | True: Samsung S21 FE, Predicted: Samsung S23 5g\n",
      "❌ Misclassified 20241018_195016.jpg | True: Samsung S21 FE, Predicted: Samsung S23 5g\n",
      "❌ Misclassified 20241018_195037.jpg | True: Samsung S21 FE, Predicted: Samsung S23 5g\n",
      "❌ Misclassified 20241116_221226.jpg | True: Samsung S21 FE, Predicted: Samsung S23 5g\n",
      "❌ Misclassified 20250508_210654.jpg | True: Samsung S21 FE, Predicted: Samsung S23 5g\n",
      "\n",
      "📊 Device: Samsung S21 FE\n",
      "    Total Query Images: 21\n",
      "    Correct Predictions: 10\n",
      "    Accuracy: 47.62%\n"
     ]
    }
   ],
   "source": [
    "# ---------------------------------------------------------------------------\n",
    "# PART 3: ACCURACY EVALUATION FOR ALL QUERY SETS\n",
    "# ---------------------------------------------------------------------------\n",
    "print(\"\\n--- Starting Accuracy Evaluation for All Devices ---\")\n",
    "\n",
    "# 📁 Set correct paths\n",
    "data_root = r\"C:\\Users\\inamy\\Desktop\\minor project\\prnu-camera-source-detection\\data\"\n",
    "TARGET_WIDTH = 1024\n",
    "TARGET_HEIGHT = 768\n",
    "\n",
    "# 🧭 Map device_name (from fingerprint filename) to actual folder name\n",
    "device_to_folder = {\n",
    "    \"iphone15\": \"iphone15\",\n",
    "    \"OnePlus Nord CE4\": \"OnePlus Nord CE4\",\n",
    "    \"Samsung S21 FE\": \"Samsung S21 FE\",\n",
    "    \"Samsung S23 5g\": \"Samsung S23 5g\",\n",
    "}\n",
    "\n",
    "# Helper function for matching an image to fingerprints\n",
    "def match_image(image_path, fingerprints):\n",
    "    try:\n",
    "        img = Image.open(image_path).convert('RGB')\n",
    "        img = img.resize((TARGET_WIDTH, TARGET_HEIGHT), Image.LANCZOS)\n",
    "        img_np = np.array(img, dtype=np.uint8)\n",
    "    except Exception as e:\n",
    "        print(f\"⚠️ Could not read image {image_path}: {e}\")\n",
    "        return None\n",
    "\n",
    "    # Extract PRNU noise\n",
    "    query_noise = noise_extract_compact((img_np, 4, 2))\n",
    "    query_noise_gray = rgb2gray(query_noise)\n",
    "\n",
    "    best_device = None\n",
    "    best_corr = -1\n",
    "\n",
    "    for device, fp in fingerprints.items():\n",
    "        fp_gray = rgb2gray(fp) if fp.ndim == 3 else fp\n",
    "        corr_map = crosscorr_2d(query_noise_gray, fp_gray)\n",
    "        corr_score = float(np.max(corr_map))\n",
    "        if corr_score > best_corr:\n",
    "            best_corr = corr_score\n",
    "            best_device = device\n",
    "\n",
    "    return best_device\n",
    "\n",
    "# 📊 Accuracy computation\n",
    "device_accuracies = {}\n",
    "total_correct = 0\n",
    "total_images = 0\n",
    "\n",
    "for device_name in fingerprints.keys():\n",
    "    # ✅ Map to correct folder and include 'images/query_set'\n",
    "    folder_name = device_to_folder.get(device_name, device_name)\n",
    "    query_folder = os.path.join(data_root, folder_name, \"images\", \"query_set\")\n",
    "\n",
    "    if not os.path.exists(query_folder):\n",
    "        print(f\"⚠️ Query folder not found for {device_name} (expected: {query_folder})\")\n",
    "        continue\n",
    "\n",
    "    device_total = 0\n",
    "    device_correct = 0\n",
    "\n",
    "    for filename in os.listdir(query_folder):\n",
    "        if filename.lower().endswith(('.jpg', '.jpeg', '.png')):\n",
    "            image_path = os.path.join(query_folder, filename)\n",
    "            predicted_device = match_image(image_path, fingerprints)\n",
    "            device_total += 1\n",
    "            total_images += 1\n",
    "\n",
    "            if predicted_device == device_name:\n",
    "                device_correct += 1\n",
    "                total_correct += 1\n",
    "            else:\n",
    "                print(f\"❌ Misclassified {filename} | True: {device_name}, Predicted: {predicted_device}\")\n",
    "\n",
    "    if device_total > 0:\n",
    "        accuracy = (device_correct / device_total) * 100\n",
    "        device_accuracies[device_name] = accuracy\n",
    "        print(f\"\\n📊 Device: {device_name}\")\n",
    "        print(f\"    Total Query Images: {device_total}\")\n",
    "        print(f\"    Correct Predictions: {device_correct}\")\n",
    "        print(f\"    Accuracy: {accuracy:.2f}%\")\n",
    "\n",
    "# 🌐 Overall accuracy\n",
    "if total_images > 0:\n",
    "    overall_accuracy = (total_correct / total_images) * 100\n",
    "    print(\"\\n==============================\")\n",
    "    print(f\"✅ Overall Accuracy: {overall_accuracy:.2f}%\")\n",
    "    print(\"==============================\")\n",
    "\n",
    "# 📝 Summary table\n",
    "print(\"\\n--- Per-Device Accuracy Summary ---\")\n",
    "for device, acc in device_accuracies.items():\n",
    "    print(f\"{device:25s} : {acc:.2f}%\")\n"
   ]
  }
 ],
 "metadata": {
  "kernelspec": {
   "display_name": "Python 3",
   "language": "python",
   "name": "python3"
  },
  "language_info": {
   "codemirror_mode": {
    "name": "ipython",
    "version": 3
   },
   "file_extension": ".py",
   "mimetype": "text/x-python",
   "name": "python",
   "nbconvert_exporter": "python",
   "pygments_lexer": "ipython3",
   "version": "3.12.4"
  }
 },
 "nbformat": 4,
 "nbformat_minor": 5
}
