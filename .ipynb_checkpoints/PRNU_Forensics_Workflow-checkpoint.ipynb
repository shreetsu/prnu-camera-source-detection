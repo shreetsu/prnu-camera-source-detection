{
 "cells": [
  {
   "cell_type": "code",
   "execution_count": 12,
   "id": "767249af",
   "metadata": {},
   "outputs": [
    {
     "name": "stdout",
     "output_type": "stream",
     "text": [
      "Requirement already satisfied: opencv-python in /opt/anaconda3/lib/python3.12/site-packages (4.12.0.88)\n",
      "Collecting numpy<2.3.0,>=2 (from opencv-python)\n",
      "  Using cached numpy-2.2.6-cp312-cp312-macosx_14_0_arm64.whl.metadata (62 kB)\n",
      "Using cached numpy-2.2.6-cp312-cp312-macosx_14_0_arm64.whl (5.1 MB)\n",
      "Installing collected packages: numpy\n",
      "  Attempting uninstall: numpy\n",
      "    Found existing installation: numpy 1.26.4\n",
      "    Uninstalling numpy-1.26.4:\n",
      "      Successfully uninstalled numpy-1.26.4\n",
      "\u001b[31mERROR: pip's dependency resolver does not currently take into account all the packages that are installed. This behaviour is the source of the following dependency conflicts.\n",
      "gensim 4.3.3 requires numpy<2.0,>=1.18.5, but you have numpy 2.2.6 which is incompatible.\n",
      "contourpy 1.2.0 requires numpy<2.0,>=1.20, but you have numpy 2.2.6 which is incompatible.\n",
      "numba 0.60.0 requires numpy<2.1,>=1.22, but you have numpy 2.2.6 which is incompatible.\u001b[0m\u001b[31m\n",
      "\u001b[0mSuccessfully installed numpy-2.2.6\n",
      "Note: you may need to restart the kernel to use updated packages.\n"
     ]
    }
   ],
   "source": [
    "pip install opencv-python"
   ]
  },
  {
   "cell_type": "code",
   "execution_count": 13,
   "id": "5a73be5a",
   "metadata": {},
   "outputs": [
    {
     "name": "stdout",
     "output_type": "stream",
     "text": [
      "Collecting numpy==1.23.5 (from -r ../prnu-python/requirements.txt (line 1))\n",
      "  Using cached numpy-1.23.5.tar.gz (10.7 MB)\n",
      "  Installing build dependencies ... \u001b[?25ldone\n",
      "\u001b[?25h  Getting requirements to build wheel ... \u001b[?25lerror\n",
      "  \u001b[1;31merror\u001b[0m: \u001b[1msubprocess-exited-with-error\u001b[0m\n",
      "  \n",
      "  \u001b[31m×\u001b[0m \u001b[32mGetting requirements to build wheel\u001b[0m did not run successfully.\n",
      "  \u001b[31m│\u001b[0m exit code: \u001b[1;36m1\u001b[0m\n",
      "  \u001b[31m╰─>\u001b[0m \u001b[31m[33 lines of output]\u001b[0m\n",
      "  \u001b[31m   \u001b[0m Traceback (most recent call last):\n",
      "  \u001b[31m   \u001b[0m   File \"/opt/anaconda3/lib/python3.12/site-packages/pip/_vendor/pyproject_hooks/_in_process/_in_process.py\", line 353, in <module>\n",
      "  \u001b[31m   \u001b[0m     main()\n",
      "  \u001b[31m   \u001b[0m   File \"/opt/anaconda3/lib/python3.12/site-packages/pip/_vendor/pyproject_hooks/_in_process/_in_process.py\", line 335, in main\n",
      "  \u001b[31m   \u001b[0m     json_out['return_val'] = hook(**hook_input['kwargs'])\n",
      "  \u001b[31m   \u001b[0m                              ^^^^^^^^^^^^^^^^^^^^^^^^^^^^\n",
      "  \u001b[31m   \u001b[0m   File \"/opt/anaconda3/lib/python3.12/site-packages/pip/_vendor/pyproject_hooks/_in_process/_in_process.py\", line 112, in get_requires_for_build_wheel\n",
      "  \u001b[31m   \u001b[0m     backend = _build_backend()\n",
      "  \u001b[31m   \u001b[0m               ^^^^^^^^^^^^^^^^\n",
      "  \u001b[31m   \u001b[0m   File \"/opt/anaconda3/lib/python3.12/site-packages/pip/_vendor/pyproject_hooks/_in_process/_in_process.py\", line 77, in _build_backend\n",
      "  \u001b[31m   \u001b[0m     obj = import_module(mod_path)\n",
      "  \u001b[31m   \u001b[0m           ^^^^^^^^^^^^^^^^^^^^^^^\n",
      "  \u001b[31m   \u001b[0m   File \"/opt/anaconda3/lib/python3.12/importlib/__init__.py\", line 90, in import_module\n",
      "  \u001b[31m   \u001b[0m     return _bootstrap._gcd_import(name[level:], package, level)\n",
      "  \u001b[31m   \u001b[0m            ^^^^^^^^^^^^^^^^^^^^^^^^^^^^^^^^^^^^^^^^^^^^^^^^^^^^\n",
      "  \u001b[31m   \u001b[0m   File \"<frozen importlib._bootstrap>\", line 1387, in _gcd_import\n",
      "  \u001b[31m   \u001b[0m   File \"<frozen importlib._bootstrap>\", line 1360, in _find_and_load\n",
      "  \u001b[31m   \u001b[0m   File \"<frozen importlib._bootstrap>\", line 1310, in _find_and_load_unlocked\n",
      "  \u001b[31m   \u001b[0m   File \"<frozen importlib._bootstrap>\", line 488, in _call_with_frames_removed\n",
      "  \u001b[31m   \u001b[0m   File \"<frozen importlib._bootstrap>\", line 1387, in _gcd_import\n",
      "  \u001b[31m   \u001b[0m   File \"<frozen importlib._bootstrap>\", line 1360, in _find_and_load\n",
      "  \u001b[31m   \u001b[0m   File \"<frozen importlib._bootstrap>\", line 1331, in _find_and_load_unlocked\n",
      "  \u001b[31m   \u001b[0m   File \"<frozen importlib._bootstrap>\", line 935, in _load_unlocked\n",
      "  \u001b[31m   \u001b[0m   File \"<frozen importlib._bootstrap_external>\", line 995, in exec_module\n",
      "  \u001b[31m   \u001b[0m   File \"<frozen importlib._bootstrap>\", line 488, in _call_with_frames_removed\n",
      "  \u001b[31m   \u001b[0m   File \"/private/var/folders/m2/h5vdkxbd07x_1vpjxprssq740000gn/T/pip-build-env-l5zxl3yd/overlay/lib/python3.12/site-packages/setuptools/__init__.py\", line 16, in <module>\n",
      "  \u001b[31m   \u001b[0m     import setuptools.version\n",
      "  \u001b[31m   \u001b[0m   File \"/private/var/folders/m2/h5vdkxbd07x_1vpjxprssq740000gn/T/pip-build-env-l5zxl3yd/overlay/lib/python3.12/site-packages/setuptools/version.py\", line 1, in <module>\n",
      "  \u001b[31m   \u001b[0m     import pkg_resources\n",
      "  \u001b[31m   \u001b[0m   File \"/private/var/folders/m2/h5vdkxbd07x_1vpjxprssq740000gn/T/pip-build-env-l5zxl3yd/overlay/lib/python3.12/site-packages/pkg_resources/__init__.py\", line 2172, in <module>\n",
      "  \u001b[31m   \u001b[0m     register_finder(pkgutil.ImpImporter, find_on_path)\n",
      "  \u001b[31m   \u001b[0m                     ^^^^^^^^^^^^^^^^^^^\n",
      "  \u001b[31m   \u001b[0m AttributeError: module 'pkgutil' has no attribute 'ImpImporter'. Did you mean: 'zipimporter'?\n",
      "  \u001b[31m   \u001b[0m \u001b[31m[end of output]\u001b[0m\n",
      "  \n",
      "  \u001b[1;35mnote\u001b[0m: This error originates from a subprocess, and is likely not a problem with pip.\n",
      "\u001b[?25h\u001b[1;31merror\u001b[0m: \u001b[1msubprocess-exited-with-error\u001b[0m\n",
      "\n",
      "\u001b[31m×\u001b[0m \u001b[32mGetting requirements to build wheel\u001b[0m did not run successfully.\n",
      "\u001b[31m│\u001b[0m exit code: \u001b[1;36m1\u001b[0m\n",
      "\u001b[31m╰─>\u001b[0m See above for output.\n",
      "\n",
      "\u001b[1;35mnote\u001b[0m: This error originates from a subprocess, and is likely not a problem with pip.\n",
      "Note: you may need to restart the kernel to use updated packages.\n"
     ]
    }
   ],
   "source": [
    "pip install -r ../prnu-python/requirements.txt\n"
   ]
  },
  {
   "cell_type": "code",
   "execution_count": 14,
   "id": "5b4b308b",
   "metadata": {},
   "outputs": [],
   "source": [
    "import sys\n",
    "sys.path.append(r'c:\\Users\\inamy\\Desktop\\minor project\\prnu-camera-source-detection\\prnu-python')\n"
   ]
  },
  {
   "cell_type": "code",
   "execution_count": 15,
   "id": "fb8e5b51",
   "metadata": {},
   "outputs": [
    {
     "name": "stdout",
     "output_type": "stream",
     "text": [
      "Requirement already satisfied: numpy in /opt/anaconda3/lib/python3.12/site-packages (2.2.6)\n",
      "Note: you may need to restart the kernel to use updated packages.\n"
     ]
    }
   ],
   "source": [
    "pip install --user numpy\n"
   ]
  },
  {
   "cell_type": "code",
   "execution_count": 16,
   "id": "fe6fc6ba",
   "metadata": {},
   "outputs": [
    {
     "name": "stdout",
     "output_type": "stream",
     "text": [
      "Requirement already satisfied: opencv-python in /opt/anaconda3/lib/python3.12/site-packages (4.12.0.88)\n",
      "Requirement already satisfied: numpy<2.3.0,>=2 in /opt/anaconda3/lib/python3.12/site-packages (from opencv-python) (2.2.6)\n",
      "Note: you may need to restart the kernel to use updated packages.\n"
     ]
    }
   ],
   "source": [
    "pip install --user opencv-python\n"
   ]
  },
  {
   "cell_type": "code",
   "execution_count": 17,
   "id": "b262571e",
   "metadata": {},
   "outputs": [
    {
     "name": "stdout",
     "output_type": "stream",
     "text": [
      "Requirement already satisfied: PyWavelets in /opt/anaconda3/lib/python3.12/site-packages (1.7.0)\n",
      "Requirement already satisfied: numpy<3,>=1.23 in /opt/anaconda3/lib/python3.12/site-packages (from PyWavelets) (2.2.6)\n",
      "Note: you may need to restart the kernel to use updated packages.\n"
     ]
    }
   ],
   "source": [
    "pip install --user PyWavelets\n"
   ]
  },
  {
   "cell_type": "code",
   "execution_count": 18,
   "id": "6a673a76",
   "metadata": {},
   "outputs": [
    {
     "name": "stdout",
     "output_type": "stream",
     "text": [
      "Requirement already satisfied: scipy in /opt/anaconda3/lib/python3.12/site-packages (1.13.1)\n",
      "Requirement already satisfied: numpy<2.3,>=1.22.4 in /opt/anaconda3/lib/python3.12/site-packages (from scipy) (2.2.6)\n",
      "Note: you may need to restart the kernel to use updated packages.\n"
     ]
    }
   ],
   "source": [
    "pip install --user scipy"
   ]
  },
  {
   "cell_type": "code",
   "execution_count": 19,
   "id": "a98e7767",
   "metadata": {},
   "outputs": [
    {
     "name": "stdout",
     "output_type": "stream",
     "text": [
      "Requirement already satisfied: matplotlib in /opt/anaconda3/lib/python3.12/site-packages (3.9.2)\n",
      "Requirement already satisfied: contourpy>=1.0.1 in /opt/anaconda3/lib/python3.12/site-packages (from matplotlib) (1.2.0)\n",
      "Requirement already satisfied: cycler>=0.10 in /opt/anaconda3/lib/python3.12/site-packages (from matplotlib) (0.11.0)\n",
      "Requirement already satisfied: fonttools>=4.22.0 in /opt/anaconda3/lib/python3.12/site-packages (from matplotlib) (4.51.0)\n",
      "Requirement already satisfied: kiwisolver>=1.3.1 in /opt/anaconda3/lib/python3.12/site-packages (from matplotlib) (1.4.4)\n",
      "Requirement already satisfied: numpy>=1.23 in /opt/anaconda3/lib/python3.12/site-packages (from matplotlib) (2.2.6)\n",
      "Requirement already satisfied: packaging>=20.0 in /opt/anaconda3/lib/python3.12/site-packages (from matplotlib) (24.1)\n",
      "Requirement already satisfied: pillow>=8 in /opt/anaconda3/lib/python3.12/site-packages (from matplotlib) (10.4.0)\n",
      "Requirement already satisfied: pyparsing>=2.3.1 in /opt/anaconda3/lib/python3.12/site-packages (from matplotlib) (3.1.2)\n",
      "Requirement already satisfied: python-dateutil>=2.7 in /opt/anaconda3/lib/python3.12/site-packages (from matplotlib) (2.9.0.post0)\n",
      "Collecting numpy>=1.23 (from matplotlib)\n",
      "  Using cached numpy-1.26.4-cp312-cp312-macosx_11_0_arm64.whl.metadata (61 kB)\n",
      "Requirement already satisfied: six>=1.5 in /opt/anaconda3/lib/python3.12/site-packages (from python-dateutil>=2.7->matplotlib) (1.16.0)\n",
      "Using cached numpy-1.26.4-cp312-cp312-macosx_11_0_arm64.whl (13.7 MB)\n",
      "Installing collected packages: numpy\n",
      "\u001b[33m  WARNING: The script f2py is installed in '/Users/shreetsu/.local/bin' which is not on PATH.\n",
      "  Consider adding this directory to PATH or, if you prefer to suppress this warning, use --no-warn-script-location.\u001b[0m\u001b[33m\n",
      "\u001b[0m\u001b[31mERROR: pip's dependency resolver does not currently take into account all the packages that are installed. This behaviour is the source of the following dependency conflicts.\n",
      "opencv-python 4.12.0.88 requires numpy<2.3.0,>=2; python_version >= \"3.9\", but you have numpy 1.26.4 which is incompatible.\u001b[0m\u001b[31m\n",
      "\u001b[0mSuccessfully installed numpy-1.26.4\n",
      "Note: you may need to restart the kernel to use updated packages.\n"
     ]
    }
   ],
   "source": [
    "pip install --user matplotlib\n"
   ]
  },
  {
   "cell_type": "code",
   "execution_count": 20,
   "id": "dacbde66",
   "metadata": {},
   "outputs": [
    {
     "name": "stdout",
     "output_type": "stream",
     "text": [
      "Requirement already satisfied: glob2 in /Users/shreetsu/.local/lib/python3.12/site-packages (0.7)\n",
      "Note: you may need to restart the kernel to use updated packages.\n"
     ]
    }
   ],
   "source": [
    "pip install --user glob2\n"
   ]
  },
  {
   "cell_type": "code",
   "execution_count": 21,
   "id": "d61e132a",
   "metadata": {},
   "outputs": [
    {
     "name": "stdout",
     "output_type": "stream",
     "text": [
      "Requirement already satisfied: scikit-learn in /opt/anaconda3/lib/python3.12/site-packages (1.5.1)\n",
      "Requirement already satisfied: numpy>=1.19.5 in /Users/shreetsu/.local/lib/python3.12/site-packages (from scikit-learn) (1.26.4)\n",
      "Requirement already satisfied: scipy>=1.6.0 in /opt/anaconda3/lib/python3.12/site-packages (from scikit-learn) (1.13.1)\n",
      "Requirement already satisfied: joblib>=1.2.0 in /opt/anaconda3/lib/python3.12/site-packages (from scikit-learn) (1.4.2)\n",
      "Requirement already satisfied: threadpoolctl>=3.1.0 in /opt/anaconda3/lib/python3.12/site-packages (from scikit-learn) (3.5.0)\n",
      "Note: you may need to restart the kernel to use updated packages.\n"
     ]
    }
   ],
   "source": [
    "pip install scikit-learn\n"
   ]
  },
  {
   "cell_type": "code",
   "execution_count": 22,
   "id": "2c36e53a",
   "metadata": {},
   "outputs": [
    {
     "name": "stdout",
     "output_type": "stream",
     "text": [
      "✅ Setup complete. All libraries and PRNU functions are ready to use.\n"
     ]
    }
   ],
   "source": [
    "import sys\n",
    "import os\n",
    "import numpy as np\n",
    "import cv2\n",
    "from matplotlib import pyplot as plt\n",
    "from glob import glob\n",
    "\n",
    "# Add prnu-python folder to path\n",
    "sys.path.append('../prnu-python')\n",
    "\n",
    "from prnu import *\n",
    "\n",
    "print(\"✅ Setup complete. All libraries and PRNU functions are ready to use.\")\n"
   ]
  },
  {
   "cell_type": "code",
   "execution_count": 23,
   "id": "e7175e90",
   "metadata": {},
   "outputs": [
    {
     "name": "stdout",
     "output_type": "stream",
     "text": [
      "✅ Successfully imported PRNU functions.\n",
      "Found device folders: ['Samsung S23 5g', 'iphone15', 'OnePlus Nord CE4', 'Samsung S21 FE']\n",
      "\n",
      "Processing fingerprint images for: Samsung S23 5g...\n",
      "Number of images for Samsung S23 5g: 28\n",
      "  Image 0 shape: (768, 1024, 3), dtype: uint8\n",
      "  Image 1 shape: (768, 1024, 3), dtype: uint8\n",
      "  Image 2 shape: (768, 1024, 3), dtype: uint8\n",
      "  Image 3 shape: (768, 1024, 3), dtype: uint8\n",
      "  Image 4 shape: (768, 1024, 3), dtype: uint8\n",
      "  Image 5 shape: (768, 1024, 3), dtype: uint8\n",
      "  Image 6 shape: (768, 1024, 3), dtype: uint8\n",
      "  Image 7 shape: (768, 1024, 3), dtype: uint8\n",
      "  Image 8 shape: (768, 1024, 3), dtype: uint8\n",
      "  Image 9 shape: (768, 1024, 3), dtype: uint8\n",
      "  Image 10 shape: (768, 1024, 3), dtype: uint8\n",
      "  Image 11 shape: (768, 1024, 3), dtype: uint8\n",
      "  Image 12 shape: (768, 1024, 3), dtype: uint8\n",
      "  Image 13 shape: (768, 1024, 3), dtype: uint8\n",
      "  Image 14 shape: (768, 1024, 3), dtype: uint8\n",
      "  Image 15 shape: (768, 1024, 3), dtype: uint8\n",
      "  Image 16 shape: (768, 1024, 3), dtype: uint8\n",
      "  Image 17 shape: (768, 1024, 3), dtype: uint8\n",
      "  Image 18 shape: (768, 1024, 3), dtype: uint8\n",
      "  Image 19 shape: (768, 1024, 3), dtype: uint8\n",
      "  Image 20 shape: (768, 1024, 3), dtype: uint8\n",
      "  Image 21 shape: (768, 1024, 3), dtype: uint8\n",
      "  Image 22 shape: (768, 1024, 3), dtype: uint8\n",
      "  Image 23 shape: (768, 1024, 3), dtype: uint8\n",
      "  Image 24 shape: (768, 1024, 3), dtype: uint8\n",
      "  Image 25 shape: (768, 1024, 3), dtype: uint8\n",
      "  Image 26 shape: (768, 1024, 3), dtype: uint8\n",
      "  Image 27 shape: (768, 1024, 3), dtype: uint8\n"
     ]
    },
    {
     "name": "stderr",
     "output_type": "stream",
     "text": [
      "100%|██████████| 28/28 [00:04<00:00,  5.70it/s]\n"
     ]
    },
    {
     "name": "stdout",
     "output_type": "stream",
     "text": [
      "✅ Fingerprint for Samsung S23 5g saved to: /Users/shreetsu/prnu-camera-source-detection/fingerprints/Samsung S23 5g_fingerprint.npy\n",
      "\n",
      "Processing fingerprint images for: iphone15...\n",
      "Number of images for iphone15: 39\n",
      "  Image 0 shape: (768, 1024, 3), dtype: uint8\n",
      "  Image 1 shape: (768, 1024, 3), dtype: uint8\n",
      "  Image 2 shape: (768, 1024, 3), dtype: uint8\n",
      "  Image 3 shape: (768, 1024, 3), dtype: uint8\n",
      "  Image 4 shape: (768, 1024, 3), dtype: uint8\n",
      "  Image 5 shape: (768, 1024, 3), dtype: uint8\n",
      "  Image 6 shape: (768, 1024, 3), dtype: uint8\n",
      "  Image 7 shape: (768, 1024, 3), dtype: uint8\n",
      "  Image 8 shape: (768, 1024, 3), dtype: uint8\n",
      "  Image 9 shape: (768, 1024, 3), dtype: uint8\n",
      "  Image 10 shape: (768, 1024, 3), dtype: uint8\n",
      "  Image 11 shape: (768, 1024, 3), dtype: uint8\n",
      "  Image 12 shape: (768, 1024, 3), dtype: uint8\n",
      "  Image 13 shape: (768, 1024, 3), dtype: uint8\n",
      "  Image 14 shape: (768, 1024, 3), dtype: uint8\n",
      "  Image 15 shape: (768, 1024, 3), dtype: uint8\n",
      "  Image 16 shape: (768, 1024, 3), dtype: uint8\n",
      "  Image 17 shape: (768, 1024, 3), dtype: uint8\n",
      "  Image 18 shape: (768, 1024, 3), dtype: uint8\n",
      "  Image 19 shape: (768, 1024, 3), dtype: uint8\n",
      "  Image 20 shape: (768, 1024, 3), dtype: uint8\n",
      "  Image 21 shape: (768, 1024, 3), dtype: uint8\n",
      "  Image 22 shape: (768, 1024, 3), dtype: uint8\n",
      "  Image 23 shape: (768, 1024, 3), dtype: uint8\n",
      "  Image 24 shape: (768, 1024, 3), dtype: uint8\n",
      "  Image 25 shape: (768, 1024, 3), dtype: uint8\n",
      "  Image 26 shape: (768, 1024, 3), dtype: uint8\n",
      "  Image 27 shape: (768, 1024, 3), dtype: uint8\n",
      "  Image 28 shape: (768, 1024, 3), dtype: uint8\n",
      "  Image 29 shape: (768, 1024, 3), dtype: uint8\n",
      "  Image 30 shape: (768, 1024, 3), dtype: uint8\n",
      "  Image 31 shape: (768, 1024, 3), dtype: uint8\n",
      "  Image 32 shape: (768, 1024, 3), dtype: uint8\n",
      "  Image 33 shape: (768, 1024, 3), dtype: uint8\n",
      "  Image 34 shape: (768, 1024, 3), dtype: uint8\n",
      "  Image 35 shape: (768, 1024, 3), dtype: uint8\n",
      "  Image 36 shape: (768, 1024, 3), dtype: uint8\n",
      "  Image 37 shape: (768, 1024, 3), dtype: uint8\n",
      "  Image 38 shape: (768, 1024, 3), dtype: uint8\n"
     ]
    },
    {
     "name": "stderr",
     "output_type": "stream",
     "text": [
      "100%|██████████| 39/39 [00:06<00:00,  5.79it/s]\n"
     ]
    },
    {
     "name": "stdout",
     "output_type": "stream",
     "text": [
      "✅ Fingerprint for iphone15 saved to: /Users/shreetsu/prnu-camera-source-detection/fingerprints/iphone15_fingerprint.npy\n",
      "\n",
      "Processing fingerprint images for: OnePlus Nord CE4...\n",
      "Number of images for OnePlus Nord CE4: 50\n",
      "  Image 0 shape: (768, 1024, 3), dtype: uint8\n",
      "  Image 1 shape: (768, 1024, 3), dtype: uint8\n",
      "  Image 2 shape: (768, 1024, 3), dtype: uint8\n",
      "  Image 3 shape: (768, 1024, 3), dtype: uint8\n",
      "  Image 4 shape: (768, 1024, 3), dtype: uint8\n",
      "  Image 5 shape: (768, 1024, 3), dtype: uint8\n",
      "  Image 6 shape: (768, 1024, 3), dtype: uint8\n",
      "  Image 7 shape: (768, 1024, 3), dtype: uint8\n",
      "  Image 8 shape: (768, 1024, 3), dtype: uint8\n",
      "  Image 9 shape: (768, 1024, 3), dtype: uint8\n",
      "  Image 10 shape: (768, 1024, 3), dtype: uint8\n",
      "  Image 11 shape: (768, 1024, 3), dtype: uint8\n",
      "  Image 12 shape: (768, 1024, 3), dtype: uint8\n",
      "  Image 13 shape: (768, 1024, 3), dtype: uint8\n",
      "  Image 14 shape: (768, 1024, 3), dtype: uint8\n",
      "  Image 15 shape: (768, 1024, 3), dtype: uint8\n",
      "  Image 16 shape: (768, 1024, 3), dtype: uint8\n",
      "  Image 17 shape: (768, 1024, 3), dtype: uint8\n",
      "  Image 18 shape: (768, 1024, 3), dtype: uint8\n",
      "  Image 19 shape: (768, 1024, 3), dtype: uint8\n",
      "  Image 20 shape: (768, 1024, 3), dtype: uint8\n",
      "  Image 21 shape: (768, 1024, 3), dtype: uint8\n",
      "  Image 22 shape: (768, 1024, 3), dtype: uint8\n",
      "  Image 23 shape: (768, 1024, 3), dtype: uint8\n",
      "  Image 24 shape: (768, 1024, 3), dtype: uint8\n",
      "  Image 25 shape: (768, 1024, 3), dtype: uint8\n",
      "  Image 26 shape: (768, 1024, 3), dtype: uint8\n",
      "  Image 27 shape: (768, 1024, 3), dtype: uint8\n",
      "  Image 28 shape: (768, 1024, 3), dtype: uint8\n",
      "  Image 29 shape: (768, 1024, 3), dtype: uint8\n",
      "  Image 30 shape: (768, 1024, 3), dtype: uint8\n",
      "  Image 31 shape: (768, 1024, 3), dtype: uint8\n",
      "  Image 32 shape: (768, 1024, 3), dtype: uint8\n",
      "  Image 33 shape: (768, 1024, 3), dtype: uint8\n",
      "  Image 34 shape: (768, 1024, 3), dtype: uint8\n",
      "  Image 35 shape: (768, 1024, 3), dtype: uint8\n",
      "  Image 36 shape: (768, 1024, 3), dtype: uint8\n",
      "  Image 37 shape: (768, 1024, 3), dtype: uint8\n",
      "  Image 38 shape: (768, 1024, 3), dtype: uint8\n",
      "  Image 39 shape: (768, 1024, 3), dtype: uint8\n",
      "  Image 40 shape: (768, 1024, 3), dtype: uint8\n",
      "  Image 41 shape: (768, 1024, 3), dtype: uint8\n",
      "  Image 42 shape: (768, 1024, 3), dtype: uint8\n",
      "  Image 43 shape: (768, 1024, 3), dtype: uint8\n",
      "  Image 44 shape: (768, 1024, 3), dtype: uint8\n",
      "  Image 45 shape: (768, 1024, 3), dtype: uint8\n",
      "  Image 46 shape: (768, 1024, 3), dtype: uint8\n",
      "  Image 47 shape: (768, 1024, 3), dtype: uint8\n",
      "  Image 48 shape: (768, 1024, 3), dtype: uint8\n",
      "  Image 49 shape: (768, 1024, 3), dtype: uint8\n"
     ]
    },
    {
     "name": "stderr",
     "output_type": "stream",
     "text": [
      "100%|██████████| 50/50 [00:08<00:00,  5.64it/s]\n"
     ]
    },
    {
     "name": "stdout",
     "output_type": "stream",
     "text": [
      "✅ Fingerprint for OnePlus Nord CE4 saved to: /Users/shreetsu/prnu-camera-source-detection/fingerprints/OnePlus Nord CE4_fingerprint.npy\n",
      "\n",
      "Processing fingerprint images for: Samsung S21 FE...\n",
      "Number of images for Samsung S21 FE: 30\n",
      "  Image 0 shape: (768, 1024, 3), dtype: uint8\n",
      "  Image 1 shape: (768, 1024, 3), dtype: uint8\n",
      "  Image 2 shape: (768, 1024, 3), dtype: uint8\n",
      "  Image 3 shape: (768, 1024, 3), dtype: uint8\n",
      "  Image 4 shape: (768, 1024, 3), dtype: uint8\n",
      "  Image 5 shape: (768, 1024, 3), dtype: uint8\n",
      "  Image 6 shape: (768, 1024, 3), dtype: uint8\n",
      "  Image 7 shape: (768, 1024, 3), dtype: uint8\n",
      "  Image 8 shape: (768, 1024, 3), dtype: uint8\n",
      "  Image 9 shape: (768, 1024, 3), dtype: uint8\n",
      "  Image 10 shape: (768, 1024, 3), dtype: uint8\n",
      "  Image 11 shape: (768, 1024, 3), dtype: uint8\n",
      "  Image 12 shape: (768, 1024, 3), dtype: uint8\n",
      "  Image 13 shape: (768, 1024, 3), dtype: uint8\n",
      "  Image 14 shape: (768, 1024, 3), dtype: uint8\n",
      "  Image 15 shape: (768, 1024, 3), dtype: uint8\n",
      "  Image 16 shape: (768, 1024, 3), dtype: uint8\n",
      "  Image 17 shape: (768, 1024, 3), dtype: uint8\n",
      "  Image 18 shape: (768, 1024, 3), dtype: uint8\n",
      "  Image 19 shape: (768, 1024, 3), dtype: uint8\n",
      "  Image 20 shape: (768, 1024, 3), dtype: uint8\n",
      "  Image 21 shape: (768, 1024, 3), dtype: uint8\n",
      "  Image 22 shape: (768, 1024, 3), dtype: uint8\n",
      "  Image 23 shape: (768, 1024, 3), dtype: uint8\n",
      "  Image 24 shape: (768, 1024, 3), dtype: uint8\n",
      "  Image 25 shape: (768, 1024, 3), dtype: uint8\n",
      "  Image 26 shape: (768, 1024, 3), dtype: uint8\n",
      "  Image 27 shape: (768, 1024, 3), dtype: uint8\n",
      "  Image 28 shape: (768, 1024, 3), dtype: uint8\n",
      "  Image 29 shape: (768, 1024, 3), dtype: uint8\n"
     ]
    },
    {
     "name": "stderr",
     "output_type": "stream",
     "text": [
      "100%|██████████| 30/30 [00:05<00:00,  5.75it/s]\n"
     ]
    },
    {
     "name": "stdout",
     "output_type": "stream",
     "text": [
      "✅ Fingerprint for Samsung S21 FE saved to: /Users/shreetsu/prnu-camera-source-detection/fingerprints/Samsung S21 FE_fingerprint.npy\n"
     ]
    }
   ],
   "source": [
    "import os\n",
    "import glob\n",
    "import numpy as np\n",
    "from PIL import Image\n",
    "from prnu import extract_multiple_aligned, crosscorr_2d\n",
    "\n",
    "print(\"✅ Successfully imported PRNU functions.\")\n",
    "\n",
    "## ---------------------------------------------------------------------------\n",
    "## PART 1: CREATE AND SAVE FINGERPRINTS FOR EACH CAMERA\n",
    "## ---------------------------------------------------------------------------\n",
    "\n",
    "#data_directory = r\"C:\\Users\\inamy\\Desktop\\minor project\\prnu-camera-source-detection\\data\"\n",
    "data_directory=r\"/Users/shreetsu/prnu-camera-source-detection/data\"\n",
    "fingerprint_directory = os.path.join(os.path.dirname(data_directory), 'fingerprints')\n",
    "os.makedirs(fingerprint_directory, exist_ok=True)\n",
    "\n",
    "device_folders = [f for f in os.listdir(data_directory) if os.path.isdir(os.path.join(data_directory, f))]\n",
    "print(f\"Found device folders: {device_folders}\")\n",
    "\n",
    "for device in device_folders:\n",
    "    print(f\"\\nProcessing fingerprint images for: {device}...\")\n",
    "\n",
    "    # Get all JPG/JPEG images regardless of case\n",
    "    image_paths = glob.glob(os.path.join(data_directory, device, 'images', 'fingerprint_set', '*.[jJ][pP][gG]')) + \\\n",
    "                  glob.glob(os.path.join(data_directory, device, 'images', 'fingerprint_set', '*.[jJ][pP][eE][gG]'))\n",
    "\n",
    "    if not image_paths:\n",
    "        print(f\"⚠️  No images found for {device} fingerprint_set. Skipping.\")\n",
    "        continue\n",
    "\n",
    "    TARGET_WIDTH = 1024\n",
    "    TARGET_HEIGHT = 768\n",
    "\n",
    "    # Read images using PIL\n",
    "    images = []\n",
    "    for path in image_paths:\n",
    "        try:\n",
    "            img = Image.open(path).convert('RGB')  # Ensure 3 channels\n",
    "            img = img.resize((TARGET_WIDTH, TARGET_HEIGHT), Image.LANCZOS)\n",
    "            img_np = np.array(img, dtype=np.uint8)\n",
    "            images.append(img_np)\n",
    "        except Exception as e:\n",
    "            print(f\"⚠️ Could not read image: {path} ({e})\")\n",
    "\n",
    "    if not images:\n",
    "        print(f\"⚠️ No valid images for {device}. Skipping.\")\n",
    "        continue\n",
    "\n",
    "    shapes = set([img.shape for img in images])\n",
    "    if len(shapes) != 1:\n",
    "        print(f\"❌ Mismatched shapes in {device}: {shapes}\")\n",
    "        continue\n",
    "\n",
    "    print(f\"Number of images for {device}: {len(images)}\")\n",
    "    for idx, im in enumerate(images):\n",
    "        print(f\"  Image {idx} shape: {im.shape}, dtype: {im.dtype}\")\n",
    "    \n",
    "    # Extract the camera fingerprint\n",
    "    fingerprint = extract_multiple_aligned(images, processes=0)\n",
    "\n",
    "    # Save the fingerprint\n",
    "    save_path = os.path.join(fingerprint_directory, f\"{device}_fingerprint.npy\")\n",
    "    np.save(save_path, fingerprint)\n",
    "    print(f\"✅ Fingerprint for {device} saved to: {save_path}\")\n",
    "\n",
    "\n"
   ]
  },
  {
   "cell_type": "code",
   "execution_count": 26,
   "id": "e317a0aa",
   "metadata": {},
   "outputs": [
    {
     "name": "stdout",
     "output_type": "stream",
     "text": [
      "\n",
      "--- Starting Image Matching Test ---\n",
      "Testing image: /Users/shreetsu/prnu-camera-source-detection/data/Samsung S23 5g/images/query_set/20231201_163332.jpg\n",
      "Loaded 4 fingerprints for matching.\n",
      "  - Correlation with Samsung S21 FE: 1195.1729\n",
      "  - Correlation with Samsung S23 5g: 1358.7288\n",
      "  - Correlation with iphone15: 893.5048\n",
      "  - Correlation with OnePlus Nord CE4: 749.8637\n",
      "\n",
      "--- Results ---\n",
      "🚀 The best match for the image is: **Samsung S23 5g** with a score of 1358.7288\n"
     ]
    }
   ],
   "source": [
    "## ---------------------------------------------------------------------------\n",
    "## PART 2: MATCH AN UNKNOWN IMAGE\n",
    "## ---------------------------------------------------------------------------\n",
    "print(\"\\n--- Starting Image Matching Test ---\")\n",
    "\n",
    "#unknown_image_path = r\"C:\\Users\\inamy\\Desktop\\minor project\\prnu-camera-source-detection\\data\\Samsung S23 5g\\images\\query_set\\20231201_163332.jpg\"\n",
    "unknown_image_path=r\"/Users/shreetsu/prnu-camera-source-detection/data/Samsung S23 5g/images/query_set/20231201_163332.jpg\"\n",
    "print(f\"Testing image: {unknown_image_path}\")\n",
    "\n",
    "# Read query image with PIL and resize to match fingerprint size\n",
    "TARGET_WIDTH = 1024\n",
    "TARGET_HEIGHT = 768\n",
    "\n",
    "try:\n",
    "    unknown_img = Image.open(unknown_image_path).convert('RGB')\n",
    "    unknown_img = unknown_img.resize((TARGET_WIDTH, TARGET_HEIGHT), Image.LANCZOS)\n",
    "    unknown_np = np.array(unknown_img, dtype=np.uint8)\n",
    "except Exception as e:\n",
    "    raise ValueError(f\"Could not read query image: {unknown_image_path} ({e})\")\n",
    "\n",
    "# ✅ Extract noise residual from the unknown image\n",
    "from prnu.functions import noise_extract_compact, rgb2gray\n",
    "\n",
    "query_noise = noise_extract_compact((unknown_np, 4, 2))  # levels=4, sigma=2 is standard\n",
    "query_noise_gray = rgb2gray(query_noise)\n",
    "\n",
    "# Load all fingerprints\n",
    "fingerprints = {}\n",
    "for fp_file in os.listdir(fingerprint_directory):\n",
    "    if fp_file.endswith('.npy'):\n",
    "        device_name = fp_file.replace('_fingerprint.npy', '')\n",
    "        fingerprints[device_name] = np.load(os.path.join(fingerprint_directory, fp_file))\n",
    "\n",
    "print(f\"Loaded {len(fingerprints)} fingerprints for matching.\")\n",
    "\n",
    "# Compare unknown image against each fingerprint\n",
    "best_match_device = None\n",
    "highest_correlation = -1\n",
    "\n",
    "for device, fingerprint in fingerprints.items():\n",
    "    # Convert fingerprint to grayscale if not already\n",
    "    if fingerprint.ndim == 3:\n",
    "        fp_gray = rgb2gray(fingerprint)\n",
    "    else:\n",
    "        fp_gray = fingerprint\n",
    "\n",
    "    # crosscorr_2d returns a map; take max correlation as score\n",
    "    correlation_map = crosscorr_2d(query_noise_gray, fp_gray)\n",
    "    correlation_score = float(np.max(correlation_map))\n",
    "\n",
    "    print(f\"  - Correlation with {device}: {correlation_score:.4f}\")\n",
    "\n",
    "    if correlation_score > highest_correlation:\n",
    "        highest_correlation = correlation_score\n",
    "        best_match_device = device\n",
    "\n",
    "print(\"\\n--- Results ---\")\n",
    "if best_match_device is not None:\n",
    "    print(f\"🚀 The best match for the image is: **{best_match_device}** with a score of {highest_correlation:.4f}\")\n",
    "else:\n",
    "    print(\"⚠️ No match found.\")\n"
   ]
  }
 ],
 "metadata": {
  "kernelspec": {
   "display_name": "Python 3",
   "language": "python",
   "name": "python3"
  },
  "language_info": {
   "codemirror_mode": {
    "name": "ipython",
    "version": 3
   },
   "file_extension": ".py",
   "mimetype": "text/x-python",
   "name": "python",
   "nbconvert_exporter": "python",
   "pygments_lexer": "ipython3",
   "version": "3.12.7"
  }
 },
 "nbformat": 4,
 "nbformat_minor": 5
}
