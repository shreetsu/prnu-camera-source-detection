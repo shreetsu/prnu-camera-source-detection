{
 "cells": [
  {
   "cell_type": "code",
   "execution_count": 4,
   "id": "c4cd6bc7-ffef-4825-a803-c5e430930a72",
   "metadata": {},
   "outputs": [
    {
     "name": "stdout",
     "output_type": "stream",
     "text": [
      "Setup complete. All libraries and PRNU functions are ready to use.\n"
     ]
    }
   ],
   "source": [
    "\n",
    "# Step 0: Setup and Imports\n",
    "import sys\n",
    "import os\n",
    "import numpy as np\n",
    "import cv2  # This is the OpenCV library for image processing\n",
    "from matplotlib import pyplot as plt\n",
    "from glob import glob # A handy library for finding files\n",
    "\n",
    "# --- IMPORTANT ---\n",
    "# Add the 'prnu-python' directory to Python's path\n",
    "sys.path.append('prnu-python')\n",
    "\n",
    "# Now you can import the functions from prnu.py\n",
    "from prnu import *\n",
    "\n",
    "print(\"Setup complete. All libraries and PRNU functions are ready to use.\")"
   ]
  },
  {
   "cell_type": "code",
   "execution_count": 6,
   "id": "645ca3d3-588f-4383-adfa-5baf056e4738",
   "metadata": {},
   "outputs": [],
   "source": [
    "# --- Define your inputs here ---\n",
    "\n",
    "# Path to the folder containing the source images\n",
    "camera_image_folder = 'data/fingerprint_sets/camera_A_iphone12/'\n",
    "\n",
    "# Path where you want to save the final fingerprint file\n",
    "output_fingerprint_path = 'fingerprints/camera_A_iphone12.npy'"
   ]
  },
  {
   "cell_type": "code",
   "execution_count": 8,
   "id": "7e11c121-37e3-4c09-8ea7-72f64f011364",
   "metadata": {},
   "outputs": [],
   "source": [
    "# --- Define your inputs here ---\n",
    "\n",
    "# Path to the image you are testing\n",
    "query_image_path = 'data/query_images/source_id_tests/image_from_A.jpg'\n",
    "\n",
    "# Path to the fingerprint you are comparing against\n",
    "fingerprint_to_test = 'fingerprints/camera_A_iphone12.npy'"
   ]
  },
  {
   "cell_type": "code",
   "execution_count": 10,
   "id": "012bba6c-a16e-4612-a0fc-760f68312572",
   "metadata": {},
   "outputs": [],
   "source": [
    "# --- Define your inputs here ---\n",
    "\n",
    "# Path to the potentially forged image\n",
    "tampered_image_path = 'data/query_images/tampering_tests/forged_image.jpg'\n",
    "\n",
    "# Path to the fingerprint of the camera that SHOULD have taken the photo\n",
    "source_camera_fingerprint = 'fingerprints/camera_A_iphone12.npy'\n",
    "\n",
    "# Path where you want to save the output heatmap image\n",
    "output_heatmap_path = 'results/forged_image_heatmap.png'"
   ]
  },
  {
   "cell_type": "code",
   "execution_count": null,
   "id": "dd09308f-00ac-444c-a6b8-a0a851fceca7",
   "metadata": {},
   "outputs": [],
   "source": []
  }
 ],
 "metadata": {
  "kernelspec": {
   "display_name": "Python [conda env:base] *",
   "language": "python",
   "name": "conda-base-py"
  },
  "language_info": {
   "codemirror_mode": {
    "name": "ipython",
    "version": 3
   },
   "file_extension": ".py",
   "mimetype": "text/x-python",
   "name": "python",
   "nbconvert_exporter": "python",
   "pygments_lexer": "ipython3",
   "version": "3.12.7"
  }
 },
 "nbformat": 4,
 "nbformat_minor": 5
}
